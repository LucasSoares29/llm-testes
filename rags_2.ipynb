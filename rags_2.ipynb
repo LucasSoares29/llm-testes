{
 "cells": [
  {
   "cell_type": "markdown",
   "metadata": {},
   "source": [
    "## Instalação das bibliotecas"
   ]
  },
  {
   "cell_type": "code",
   "execution_count": 1,
   "metadata": {},
   "outputs": [
    {
     "name": "stdout",
     "output_type": "stream",
     "text": [
      "Collecting langchain-text-splitters\n",
      "  Obtaining dependency information for langchain-text-splitters from https://files.pythonhosted.org/packages/a2/37/b2c971dfea62675f640e0dd5a078ca502885059276d21b7143cf1fe13e82/langchain_text_splitters-0.3.4-py3-none-any.whl.metadata\n",
      "  Downloading langchain_text_splitters-0.3.4-py3-none-any.whl.metadata (2.3 kB)\n",
      "Collecting langchain-community\n",
      "  Obtaining dependency information for langchain-community from https://files.pythonhosted.org/packages/45/a7/b9f3cd12510fe9a5fe2dcd7f12d095b0d5bd95fb2cd9c5362de45ebc18f9/langchain_community-0.3.13-py3-none-any.whl.metadata\n",
      "  Downloading langchain_community-0.3.13-py3-none-any.whl.metadata (2.9 kB)\n",
      "Collecting langgraph\n",
      "  Obtaining dependency information for langgraph from https://files.pythonhosted.org/packages/93/ce/150789d181ea0570112c6fae330f477aa5f68fa425098c25c2c9b1556676/langgraph-0.2.60-py3-none-any.whl.metadata\n",
      "  Downloading langgraph-0.2.60-py3-none-any.whl.metadata (15 kB)\n",
      "Collecting langchain-core<0.4.0,>=0.3.26 (from langchain-text-splitters)\n",
      "  Obtaining dependency information for langchain-core<0.4.0,>=0.3.26 from https://files.pythonhosted.org/packages/9a/bf/07e63d4b4c41aa49daf4a4499e8010928ce8545469f0265544f925c95fff/langchain_core-0.3.28-py3-none-any.whl.metadata\n",
      "  Downloading langchain_core-0.3.28-py3-none-any.whl.metadata (6.3 kB)\n",
      "Requirement already satisfied: PyYAML>=5.3 in c:\\users\\lucas\\anaconda3\\envs\\3point11\\lib\\site-packages (from langchain-community) (6.0.1)\n",
      "Requirement already satisfied: SQLAlchemy<3,>=1.4 in c:\\users\\lucas\\anaconda3\\envs\\3point11\\lib\\site-packages (from langchain-community) (2.0.20)\n",
      "Requirement already satisfied: aiohttp<4.0.0,>=3.8.3 in c:\\users\\lucas\\anaconda3\\envs\\3point11\\lib\\site-packages (from langchain-community) (3.9.5)\n",
      "Requirement already satisfied: dataclasses-json<0.7,>=0.5.7 in c:\\users\\lucas\\anaconda3\\envs\\3point11\\lib\\site-packages (from langchain-community) (0.5.14)\n",
      "Collecting httpx-sse<0.5.0,>=0.4.0 (from langchain-community)\n",
      "  Obtaining dependency information for httpx-sse<0.5.0,>=0.4.0 from https://files.pythonhosted.org/packages/e1/9b/a181f281f65d776426002f330c31849b86b31fc9d848db62e16f03ff739f/httpx_sse-0.4.0-py3-none-any.whl.metadata\n",
      "  Downloading httpx_sse-0.4.0-py3-none-any.whl.metadata (9.0 kB)\n",
      "Collecting langchain<0.4.0,>=0.3.13 (from langchain-community)\n",
      "  Obtaining dependency information for langchain<0.4.0,>=0.3.13 from https://files.pythonhosted.org/packages/83/d4/f70ddcd14a1c9401367c601380e1204c6cfc948d7a46a4a274d3c03f1526/langchain-0.3.13-py3-none-any.whl.metadata\n",
      "  Downloading langchain-0.3.13-py3-none-any.whl.metadata (7.1 kB)\n",
      "Collecting langsmith<0.3,>=0.1.125 (from langchain-community)\n",
      "  Obtaining dependency information for langsmith<0.3,>=0.1.125 from https://files.pythonhosted.org/packages/07/8d/022d3e2bc7c8bc933767ace34498bb5a2bd70447359798a216a05a7262bb/langsmith-0.2.7-py3-none-any.whl.metadata\n",
      "  Downloading langsmith-0.2.7-py3-none-any.whl.metadata (14 kB)\n",
      "Requirement already satisfied: numpy<2,>=1.22.4 in c:\\users\\lucas\\anaconda3\\envs\\3point11\\lib\\site-packages (from langchain-community) (1.25.2)\n",
      "Collecting pydantic-settings<3.0.0,>=2.4.0 (from langchain-community)\n",
      "  Obtaining dependency information for pydantic-settings<3.0.0,>=2.4.0 from https://files.pythonhosted.org/packages/b4/46/93416fdae86d40879714f72956ac14df9c7b76f7d41a4d68aa9f71a0028b/pydantic_settings-2.7.1-py3-none-any.whl.metadata\n",
      "  Downloading pydantic_settings-2.7.1-py3-none-any.whl.metadata (3.5 kB)\n",
      "Requirement already satisfied: requests<3,>=2 in c:\\users\\lucas\\anaconda3\\envs\\3point11\\lib\\site-packages (from langchain-community) (2.32.3)\n",
      "Requirement already satisfied: tenacity!=8.4.0,<10,>=8.1.0 in c:\\users\\lucas\\anaconda3\\envs\\3point11\\lib\\site-packages (from langchain-community) (8.2.3)\n",
      "Collecting langgraph-checkpoint<3.0.0,>=2.0.4 (from langgraph)\n",
      "  Obtaining dependency information for langgraph-checkpoint<3.0.0,>=2.0.4 from https://files.pythonhosted.org/packages/d8/63/b2ecb322ffc978e6bcf27e3786a0efa3142c57d58daeb4e4397196117030/langgraph_checkpoint-2.0.9-py3-none-any.whl.metadata\n",
      "  Downloading langgraph_checkpoint-2.0.9-py3-none-any.whl.metadata (4.6 kB)\n",
      "Collecting langgraph-sdk<0.2.0,>=0.1.42 (from langgraph)\n",
      "  Obtaining dependency information for langgraph-sdk<0.2.0,>=0.1.42 from https://files.pythonhosted.org/packages/b3/88/95ca5e3ca12659c2d2c26d64c5e481f1fca28b3053e15f5f0aafb3cc5244/langgraph_sdk-0.1.48-py3-none-any.whl.metadata\n",
      "  Downloading langgraph_sdk-0.1.48-py3-none-any.whl.metadata (1.8 kB)\n",
      "Requirement already satisfied: aiosignal>=1.1.2 in c:\\users\\lucas\\anaconda3\\envs\\3point11\\lib\\site-packages (from aiohttp<4.0.0,>=3.8.3->langchain-community) (1.3.1)\n",
      "Requirement already satisfied: attrs>=17.3.0 in c:\\users\\lucas\\anaconda3\\envs\\3point11\\lib\\site-packages (from aiohttp<4.0.0,>=3.8.3->langchain-community) (21.4.0)\n",
      "Requirement already satisfied: frozenlist>=1.1.1 in c:\\users\\lucas\\anaconda3\\envs\\3point11\\lib\\site-packages (from aiohttp<4.0.0,>=3.8.3->langchain-community) (1.4.0)\n",
      "Requirement already satisfied: multidict<7.0,>=4.5 in c:\\users\\lucas\\anaconda3\\envs\\3point11\\lib\\site-packages (from aiohttp<4.0.0,>=3.8.3->langchain-community) (6.0.4)\n",
      "Requirement already satisfied: yarl<2.0,>=1.0 in c:\\users\\lucas\\anaconda3\\envs\\3point11\\lib\\site-packages (from aiohttp<4.0.0,>=3.8.3->langchain-community) (1.9.2)\n",
      "Requirement already satisfied: marshmallow<4.0.0,>=3.18.0 in c:\\users\\lucas\\anaconda3\\envs\\3point11\\lib\\site-packages (from dataclasses-json<0.7,>=0.5.7->langchain-community) (3.20.1)\n",
      "Requirement already satisfied: typing-inspect<1,>=0.4.0 in c:\\users\\lucas\\anaconda3\\envs\\3point11\\lib\\site-packages (from dataclasses-json<0.7,>=0.5.7->langchain-community) (0.9.0)\n",
      "Collecting pydantic<3.0.0,>=2.7.4 (from langchain<0.4.0,>=0.3.13->langchain-community)\n",
      "  Obtaining dependency information for pydantic<3.0.0,>=2.7.4 from https://files.pythonhosted.org/packages/f3/26/3e1bbe954fde7ee22a6e7d31582c642aad9e84ffe4b5fb61e63b87cd326f/pydantic-2.10.4-py3-none-any.whl.metadata\n",
      "  Downloading pydantic-2.10.4-py3-none-any.whl.metadata (29 kB)\n",
      "Collecting jsonpatch<2.0,>=1.33 (from langchain-core<0.4.0,>=0.3.26->langchain-text-splitters)\n",
      "  Obtaining dependency information for jsonpatch<2.0,>=1.33 from https://files.pythonhosted.org/packages/73/07/02e16ed01e04a374e644b575638ec7987ae846d25ad97bcc9945a3ee4b0e/jsonpatch-1.33-py2.py3-none-any.whl.metadata\n",
      "  Downloading jsonpatch-1.33-py2.py3-none-any.whl.metadata (3.0 kB)\n",
      "Collecting packaging<25,>=23.2 (from langchain-core<0.4.0,>=0.3.26->langchain-text-splitters)\n",
      "  Obtaining dependency information for packaging<25,>=23.2 from https://files.pythonhosted.org/packages/88/ef/eb23f262cca3c0c4eb7ab1933c3b1f03d021f2c48f54763065b6f0e321be/packaging-24.2-py3-none-any.whl.metadata\n",
      "  Downloading packaging-24.2-py3-none-any.whl.metadata (3.2 kB)\n",
      "Requirement already satisfied: typing-extensions>=4.7 in c:\\users\\lucas\\anaconda3\\envs\\3point11\\lib\\site-packages (from langchain-core<0.4.0,>=0.3.26->langchain-text-splitters) (4.12.2)\n",
      "Collecting msgpack<2.0.0,>=1.1.0 (from langgraph-checkpoint<3.0.0,>=2.0.4->langgraph)\n",
      "  Obtaining dependency information for msgpack<2.0.0,>=1.1.0 from https://files.pythonhosted.org/packages/aa/c4/5a582fc9a87991a3e6f6800e9bb2f3c82972912235eb9539954f3e9997c7/msgpack-1.1.0-cp311-cp311-win_amd64.whl.metadata\n",
      "  Downloading msgpack-1.1.0-cp311-cp311-win_amd64.whl.metadata (8.6 kB)\n",
      "Requirement already satisfied: httpx>=0.25.2 in c:\\users\\lucas\\anaconda3\\envs\\3point11\\lib\\site-packages (from langgraph-sdk<0.2.0,>=0.1.42->langgraph) (0.27.0)\n",
      "Collecting orjson>=3.10.1 (from langgraph-sdk<0.2.0,>=0.1.42->langgraph)\n",
      "  Obtaining dependency information for orjson>=3.10.1 from https://files.pythonhosted.org/packages/b5/15/90b3711f40d27aff80dd42c1eec2f0ed704a1fa47eef7120350e2797892d/orjson-3.10.13-cp311-cp311-win_amd64.whl.metadata\n",
      "  Downloading orjson-3.10.13-cp311-cp311-win_amd64.whl.metadata (42 kB)\n",
      "     ---------------------------------------- 0.0/42.9 kB ? eta -:--:--\n",
      "     ---------------------------------------- 42.9/42.9 kB ? eta 0:00:00\n",
      "Collecting requests-toolbelt<2.0.0,>=1.0.0 (from langsmith<0.3,>=0.1.125->langchain-community)\n",
      "  Obtaining dependency information for requests-toolbelt<2.0.0,>=1.0.0 from https://files.pythonhosted.org/packages/3f/51/d4db610ef29373b879047326cbf6fa98b6c1969d6f6dc423279de2b1be2c/requests_toolbelt-1.0.0-py2.py3-none-any.whl.metadata\n",
      "  Downloading requests_toolbelt-1.0.0-py2.py3-none-any.whl.metadata (14 kB)\n",
      "Collecting python-dotenv>=0.21.0 (from pydantic-settings<3.0.0,>=2.4.0->langchain-community)\n",
      "  Obtaining dependency information for python-dotenv>=0.21.0 from https://files.pythonhosted.org/packages/6a/3e/b68c118422ec867fa7ab88444e1274aa40681c606d59ac27de5a5588f082/python_dotenv-1.0.1-py3-none-any.whl.metadata\n",
      "  Downloading python_dotenv-1.0.1-py3-none-any.whl.metadata (23 kB)\n",
      "Requirement already satisfied: charset-normalizer<4,>=2 in c:\\users\\lucas\\anaconda3\\envs\\3point11\\lib\\site-packages (from requests<3,>=2->langchain-community) (2.0.4)\n",
      "Requirement already satisfied: idna<4,>=2.5 in c:\\users\\lucas\\anaconda3\\envs\\3point11\\lib\\site-packages (from requests<3,>=2->langchain-community) (3.3)\n",
      "Requirement already satisfied: urllib3<3,>=1.21.1 in c:\\users\\lucas\\anaconda3\\envs\\3point11\\lib\\site-packages (from requests<3,>=2->langchain-community) (1.26.8)\n",
      "Requirement already satisfied: certifi>=2017.4.17 in c:\\users\\lucas\\anaconda3\\envs\\3point11\\lib\\site-packages (from requests<3,>=2->langchain-community) (2023.7.22)\n",
      "Requirement already satisfied: greenlet!=0.4.17 in c:\\users\\lucas\\anaconda3\\envs\\3point11\\lib\\site-packages (from SQLAlchemy<3,>=1.4->langchain-community) (2.0.2)\n",
      "Requirement already satisfied: anyio in c:\\users\\lucas\\anaconda3\\envs\\3point11\\lib\\site-packages (from httpx>=0.25.2->langgraph-sdk<0.2.0,>=0.1.42->langgraph) (3.5.0)\n",
      "Requirement already satisfied: httpcore==1.* in c:\\users\\lucas\\anaconda3\\envs\\3point11\\lib\\site-packages (from httpx>=0.25.2->langgraph-sdk<0.2.0,>=0.1.42->langgraph) (1.0.5)\n",
      "Requirement already satisfied: sniffio in c:\\users\\lucas\\anaconda3\\envs\\3point11\\lib\\site-packages (from httpx>=0.25.2->langgraph-sdk<0.2.0,>=0.1.42->langgraph) (1.2.0)\n",
      "Requirement already satisfied: h11<0.15,>=0.13 in c:\\users\\lucas\\anaconda3\\envs\\3point11\\lib\\site-packages (from httpcore==1.*->httpx>=0.25.2->langgraph-sdk<0.2.0,>=0.1.42->langgraph) (0.14.0)\n",
      "Collecting jsonpointer>=1.9 (from jsonpatch<2.0,>=1.33->langchain-core<0.4.0,>=0.3.26->langchain-text-splitters)\n",
      "  Obtaining dependency information for jsonpointer>=1.9 from https://files.pythonhosted.org/packages/71/92/5e77f98553e9e75130c78900d000368476aed74276eb8ae8796f65f00918/jsonpointer-3.0.0-py2.py3-none-any.whl.metadata\n",
      "  Downloading jsonpointer-3.0.0-py2.py3-none-any.whl.metadata (2.3 kB)\n",
      "Collecting annotated-types>=0.6.0 (from pydantic<3.0.0,>=2.7.4->langchain<0.4.0,>=0.3.13->langchain-community)\n",
      "  Obtaining dependency information for annotated-types>=0.6.0 from https://files.pythonhosted.org/packages/78/b6/6307fbef88d9b5ee7421e68d78a9f162e0da4900bc5f5793f6d3d0e34fb8/annotated_types-0.7.0-py3-none-any.whl.metadata\n",
      "  Downloading annotated_types-0.7.0-py3-none-any.whl.metadata (15 kB)\n",
      "Collecting pydantic-core==2.27.2 (from pydantic<3.0.0,>=2.7.4->langchain<0.4.0,>=0.3.13->langchain-community)\n",
      "  Obtaining dependency information for pydantic-core==2.27.2 from https://files.pythonhosted.org/packages/e8/ef/013f07248041b74abd48a385e2110aa3a9bbfef0fbd97d4e6d07d2f5b89a/pydantic_core-2.27.2-cp311-cp311-win_amd64.whl.metadata\n",
      "  Downloading pydantic_core-2.27.2-cp311-cp311-win_amd64.whl.metadata (6.7 kB)\n",
      "Requirement already satisfied: mypy-extensions>=0.3.0 in c:\\users\\lucas\\anaconda3\\envs\\3point11\\lib\\site-packages (from typing-inspect<1,>=0.4.0->dataclasses-json<0.7,>=0.5.7->langchain-community) (1.0.0)\n",
      "Downloading langchain_text_splitters-0.3.4-py3-none-any.whl (27 kB)\n",
      "Downloading langchain_community-0.3.13-py3-none-any.whl (2.5 MB)\n",
      "   ---------------------------------------- 0.0/2.5 MB ? eta -:--:--\n",
      "   -------------- ------------------------- 0.9/2.5 MB 28.4 MB/s eta 0:00:01\n",
      "   ---------------------------- ----------- 1.8/2.5 MB 28.1 MB/s eta 0:00:01\n",
      "   -------------------------------------- - 2.4/2.5 MB 19.3 MB/s eta 0:00:01\n",
      "   ---------------------------------------  2.5/2.5 MB 19.9 MB/s eta 0:00:01\n",
      "   ---------------------------------------- 2.5/2.5 MB 14.5 MB/s eta 0:00:00\n",
      "Downloading langgraph-0.2.60-py3-none-any.whl (135 kB)\n",
      "   ---------------------------------------- 0.0/135.7 kB ? eta -:--:--\n",
      "   ---------------------------------------- 135.7/135.7 kB 7.8 MB/s eta 0:00:00\n",
      "Downloading httpx_sse-0.4.0-py3-none-any.whl (7.8 kB)\n",
      "Downloading langchain-0.3.13-py3-none-any.whl (1.0 MB)\n",
      "   ---------------------------------------- 0.0/1.0 MB ? eta -:--:--\n",
      "   ------------------------------- -------- 0.8/1.0 MB 16.8 MB/s eta 0:00:01\n",
      "   ---------------------------------------- 1.0/1.0 MB 15.9 MB/s eta 0:00:00\n",
      "Downloading langchain_core-0.3.28-py3-none-any.whl (411 kB)\n",
      "   ---------------------------------------- 0.0/411.6 kB ? eta -:--:--\n",
      "   -------------------------------------- - 399.4/411.6 kB 8.3 MB/s eta 0:00:01\n",
      "   ---------------------------------------- 411.6/411.6 kB 8.5 MB/s eta 0:00:00\n",
      "Downloading langgraph_checkpoint-2.0.9-py3-none-any.whl (37 kB)\n",
      "Downloading langgraph_sdk-0.1.48-py3-none-any.whl (43 kB)\n",
      "   ---------------------------------------- 0.0/43.7 kB ? eta -:--:--\n",
      "   ---------------------------------------- 43.7/43.7 kB 2.1 MB/s eta 0:00:00\n",
      "Downloading langsmith-0.2.7-py3-none-any.whl (325 kB)\n",
      "   ---------------------------------------- 0.0/325.7 kB ? eta -:--:--\n",
      "   -------------------------------------- - 317.4/325.7 kB 9.6 MB/s eta 0:00:01\n",
      "   ---------------------------------------- 325.7/325.7 kB 4.0 MB/s eta 0:00:00\n",
      "Downloading pydantic_settings-2.7.1-py3-none-any.whl (29 kB)\n",
      "Using cached jsonpatch-1.33-py2.py3-none-any.whl (12 kB)\n",
      "Downloading msgpack-1.1.0-cp311-cp311-win_amd64.whl (74 kB)\n",
      "   ---------------------------------------- 0.0/74.9 kB ? eta -:--:--\n",
      "   ---------------------------------------- 74.9/74.9 kB 4.3 MB/s eta 0:00:00\n",
      "Downloading orjson-3.10.13-cp311-cp311-win_amd64.whl (135 kB)\n",
      "   ---------------------------------------- 0.0/135.1 kB ? eta -:--:--\n",
      "   ---------------------------------------- 135.1/135.1 kB 7.8 MB/s eta 0:00:00\n",
      "Downloading packaging-24.2-py3-none-any.whl (65 kB)\n",
      "   ---------------------------------------- 0.0/65.5 kB ? eta -:--:--\n",
      "   ---------------------------------------- 65.5/65.5 kB 3.5 MB/s eta 0:00:00\n",
      "Downloading pydantic-2.10.4-py3-none-any.whl (431 kB)\n",
      "   ---------------------------------------- 0.0/431.8 kB ? eta -:--:--\n",
      "   ----------------------------- ---------- 317.4/431.8 kB 6.5 MB/s eta 0:00:01\n",
      "   ---------------------------------------  430.1/431.8 kB 6.7 MB/s eta 0:00:01\n",
      "   ---------------------------------------- 431.8/431.8 kB 3.8 MB/s eta 0:00:00\n",
      "Downloading pydantic_core-2.27.2-cp311-cp311-win_amd64.whl (2.0 MB)\n",
      "   ---------------------------------------- 0.0/2.0 MB ? eta -:--:--\n",
      "   -- ------------------------------------- 0.1/2.0 MB 3.5 MB/s eta 0:00:01\n",
      "   ---- ----------------------------------- 0.2/2.0 MB 3.1 MB/s eta 0:00:01\n",
      "   ------ --------------------------------- 0.3/2.0 MB 2.4 MB/s eta 0:00:01\n",
      "   -------- ------------------------------- 0.4/2.0 MB 2.7 MB/s eta 0:00:01\n",
      "   ---------- ----------------------------- 0.5/2.0 MB 2.6 MB/s eta 0:00:01\n",
      "   ------------- -------------------------- 0.7/2.0 MB 2.6 MB/s eta 0:00:01\n",
      "   ---------------- ----------------------- 0.8/2.0 MB 2.8 MB/s eta 0:00:01\n",
      "   -------------------- ------------------- 1.0/2.0 MB 2.9 MB/s eta 0:00:01\n",
      "   ------------------------ --------------- 1.2/2.0 MB 3.0 MB/s eta 0:00:01\n",
      "   ---------------------------- ----------- 1.4/2.0 MB 3.1 MB/s eta 0:00:01\n",
      "   ------------------------------ --------- 1.5/2.0 MB 3.1 MB/s eta 0:00:01\n",
      "   --------------------------------- ------ 1.6/2.0 MB 3.1 MB/s eta 0:00:01\n",
      "   ---------------------------------- ----- 1.7/2.0 MB 3.0 MB/s eta 0:00:01\n",
      "   ------------------------------------ --- 1.8/2.0 MB 2.9 MB/s eta 0:00:01\n",
      "   -------------------------------------- - 1.9/2.0 MB 2.8 MB/s eta 0:00:01\n",
      "   ---------------------------------------- 2.0/2.0 MB 2.7 MB/s eta 0:00:00\n",
      "Using cached python_dotenv-1.0.1-py3-none-any.whl (19 kB)\n",
      "Downloading requests_toolbelt-1.0.0-py2.py3-none-any.whl (54 kB)\n",
      "   ---------------------------------------- 0.0/54.5 kB ? eta -:--:--\n",
      "   ---------------------------------------- 54.5/54.5 kB 2.8 MB/s eta 0:00:00\n",
      "Using cached annotated_types-0.7.0-py3-none-any.whl (13 kB)\n",
      "Using cached jsonpointer-3.0.0-py2.py3-none-any.whl (7.6 kB)\n",
      "Installing collected packages: python-dotenv, pydantic-core, packaging, orjson, msgpack, jsonpointer, httpx-sse, annotated-types, requests-toolbelt, pydantic, jsonpatch, pydantic-settings, langsmith, langgraph-sdk, langchain-core, langgraph-checkpoint, langchain-text-splitters, langgraph, langchain, langchain-community\n",
      "  Attempting uninstall: pydantic-core\n",
      "    Found existing installation: pydantic_core 2.6.3\n",
      "    Uninstalling pydantic_core-2.6.3:\n",
      "      Successfully uninstalled pydantic_core-2.6.3\n",
      "  Attempting uninstall: packaging\n",
      "    Found existing installation: packaging 21.3\n",
      "    Uninstalling packaging-21.3:\n",
      "      Successfully uninstalled packaging-21.3\n",
      "  Attempting uninstall: msgpack\n",
      "    Found existing installation: msgpack 1.0.8\n",
      "    Uninstalling msgpack-1.0.8:\n",
      "      Successfully uninstalled msgpack-1.0.8\n",
      "  Attempting uninstall: annotated-types\n",
      "    Found existing installation: annotated-types 0.5.0\n",
      "    Uninstalling annotated-types-0.5.0:\n",
      "      Successfully uninstalled annotated-types-0.5.0\n",
      "  Attempting uninstall: pydantic\n",
      "    Found existing installation: pydantic 2.3.0\n",
      "    Uninstalling pydantic-2.3.0:\n",
      "      Successfully uninstalled pydantic-2.3.0\n",
      "  Attempting uninstall: langsmith\n",
      "    Found existing installation: langsmith 0.0.37\n",
      "    Uninstalling langsmith-0.0.37:\n",
      "      Successfully uninstalled langsmith-0.0.37\n",
      "  Attempting uninstall: langchain\n",
      "    Found existing installation: langchain 0.0.292\n",
      "    Uninstalling langchain-0.0.292:\n",
      "      Successfully uninstalled langchain-0.0.292\n",
      "Successfully installed annotated-types-0.7.0 httpx-sse-0.4.0 jsonpatch-1.33 jsonpointer-3.0.0 langchain-0.3.13 langchain-community-0.3.13 langchain-core-0.3.28 langchain-text-splitters-0.3.4 langgraph-0.2.60 langgraph-checkpoint-2.0.9 langgraph-sdk-0.1.48 langsmith-0.2.7 msgpack-1.1.0 orjson-3.10.13 packaging-24.2 pydantic-2.10.4 pydantic-core-2.27.2 pydantic-settings-2.7.1 python-dotenv-1.0.1 requests-toolbelt-1.0.0\n"
     ]
    },
    {
     "name": "stderr",
     "output_type": "stream",
     "text": [
      "ERROR: pip's dependency resolver does not currently take into account all the packages that are installed. This behaviour is the source of the following dependency conflicts.\n",
      "clarifai 9.8.1 requires tqdm==4.64.1, but you have tqdm 4.66.4 which is incompatible.\n",
      "jupyter-server 1.13.5 requires pywinpty<2; os_name == \"nt\", but you have pywinpty 2.0.10 which is incompatible.\n"
     ]
    }
   ],
   "source": [
    "!pip install --upgrade langchain-text-splitters langchain-community langgraph"
   ]
  },
  {
   "cell_type": "code",
   "execution_count": 2,
   "metadata": {},
   "outputs": [
    {
     "name": "stdout",
     "output_type": "stream",
     "text": [
      "Collecting langchain-openai\n",
      "  Obtaining dependency information for langchain-openai from https://files.pythonhosted.org/packages/ed/54/63c8264d7dbc3bf31ba61bf97740fdd76386b2d4f9a58f58afd3961ce7d7/langchain_openai-0.2.14-py3-none-any.whl.metadata\n",
      "  Downloading langchain_openai-0.2.14-py3-none-any.whl.metadata (2.7 kB)\n",
      "Requirement already satisfied: langchain-core<0.4.0,>=0.3.27 in c:\\users\\lucas\\anaconda3\\envs\\3point11\\lib\\site-packages (from langchain-openai) (0.3.28)\n",
      "Collecting openai<2.0.0,>=1.58.1 (from langchain-openai)\n",
      "  Obtaining dependency information for openai<2.0.0,>=1.58.1 from https://files.pythonhosted.org/packages/8e/5a/d22cd07f1a99b9e8b3c92ee0c1959188db4318828a3d88c9daac120bdd69/openai-1.58.1-py3-none-any.whl.metadata\n",
      "  Downloading openai-1.58.1-py3-none-any.whl.metadata (27 kB)\n",
      "Requirement already satisfied: tiktoken<1,>=0.7 in c:\\users\\lucas\\anaconda3\\envs\\3point11\\lib\\site-packages (from langchain-openai) (0.7.0)\n",
      "Requirement already satisfied: PyYAML>=5.3 in c:\\users\\lucas\\anaconda3\\envs\\3point11\\lib\\site-packages (from langchain-core<0.4.0,>=0.3.27->langchain-openai) (6.0.1)\n",
      "Requirement already satisfied: jsonpatch<2.0,>=1.33 in c:\\users\\lucas\\anaconda3\\envs\\3point11\\lib\\site-packages (from langchain-core<0.4.0,>=0.3.27->langchain-openai) (1.33)\n",
      "Requirement already satisfied: langsmith<0.3,>=0.1.125 in c:\\users\\lucas\\anaconda3\\envs\\3point11\\lib\\site-packages (from langchain-core<0.4.0,>=0.3.27->langchain-openai) (0.2.7)\n",
      "Requirement already satisfied: packaging<25,>=23.2 in c:\\users\\lucas\\anaconda3\\envs\\3point11\\lib\\site-packages (from langchain-core<0.4.0,>=0.3.27->langchain-openai) (24.2)\n",
      "Requirement already satisfied: pydantic<3.0.0,>=2.5.2 in c:\\users\\lucas\\anaconda3\\envs\\3point11\\lib\\site-packages (from langchain-core<0.4.0,>=0.3.27->langchain-openai) (2.10.4)\n",
      "Requirement already satisfied: tenacity!=8.4.0,<10.0.0,>=8.1.0 in c:\\users\\lucas\\anaconda3\\envs\\3point11\\lib\\site-packages (from langchain-core<0.4.0,>=0.3.27->langchain-openai) (8.2.3)\n",
      "Requirement already satisfied: typing-extensions>=4.7 in c:\\users\\lucas\\anaconda3\\envs\\3point11\\lib\\site-packages (from langchain-core<0.4.0,>=0.3.27->langchain-openai) (4.12.2)\n",
      "Requirement already satisfied: anyio<5,>=3.5.0 in c:\\users\\lucas\\anaconda3\\envs\\3point11\\lib\\site-packages (from openai<2.0.0,>=1.58.1->langchain-openai) (3.5.0)\n",
      "Requirement already satisfied: distro<2,>=1.7.0 in c:\\users\\lucas\\anaconda3\\envs\\3point11\\lib\\site-packages (from openai<2.0.0,>=1.58.1->langchain-openai) (1.9.0)\n",
      "Requirement already satisfied: httpx<1,>=0.23.0 in c:\\users\\lucas\\anaconda3\\envs\\3point11\\lib\\site-packages (from openai<2.0.0,>=1.58.1->langchain-openai) (0.27.0)\n",
      "Collecting jiter<1,>=0.4.0 (from openai<2.0.0,>=1.58.1->langchain-openai)\n",
      "  Obtaining dependency information for jiter<1,>=0.4.0 from https://files.pythonhosted.org/packages/4e/1e/7f96b798f356e531ffc0f53dd2f37185fac60fae4d6c612bbbd4639b90aa/jiter-0.8.2-cp311-cp311-win_amd64.whl.metadata\n",
      "  Downloading jiter-0.8.2-cp311-cp311-win_amd64.whl.metadata (5.3 kB)\n",
      "Requirement already satisfied: sniffio in c:\\users\\lucas\\anaconda3\\envs\\3point11\\lib\\site-packages (from openai<2.0.0,>=1.58.1->langchain-openai) (1.2.0)\n",
      "Requirement already satisfied: tqdm>4 in c:\\users\\lucas\\anaconda3\\envs\\3point11\\lib\\site-packages (from openai<2.0.0,>=1.58.1->langchain-openai) (4.66.4)\n",
      "Requirement already satisfied: regex>=2022.1.18 in c:\\users\\lucas\\anaconda3\\envs\\3point11\\lib\\site-packages (from tiktoken<1,>=0.7->langchain-openai) (2023.8.8)\n",
      "Requirement already satisfied: requests>=2.26.0 in c:\\users\\lucas\\anaconda3\\envs\\3point11\\lib\\site-packages (from tiktoken<1,>=0.7->langchain-openai) (2.32.3)\n",
      "Requirement already satisfied: idna>=2.8 in c:\\users\\lucas\\anaconda3\\envs\\3point11\\lib\\site-packages (from anyio<5,>=3.5.0->openai<2.0.0,>=1.58.1->langchain-openai) (3.3)\n",
      "Requirement already satisfied: certifi in c:\\users\\lucas\\anaconda3\\envs\\3point11\\lib\\site-packages (from httpx<1,>=0.23.0->openai<2.0.0,>=1.58.1->langchain-openai) (2023.7.22)\n",
      "Requirement already satisfied: httpcore==1.* in c:\\users\\lucas\\anaconda3\\envs\\3point11\\lib\\site-packages (from httpx<1,>=0.23.0->openai<2.0.0,>=1.58.1->langchain-openai) (1.0.5)\n",
      "Requirement already satisfied: h11<0.15,>=0.13 in c:\\users\\lucas\\anaconda3\\envs\\3point11\\lib\\site-packages (from httpcore==1.*->httpx<1,>=0.23.0->openai<2.0.0,>=1.58.1->langchain-openai) (0.14.0)\n",
      "Requirement already satisfied: jsonpointer>=1.9 in c:\\users\\lucas\\anaconda3\\envs\\3point11\\lib\\site-packages (from jsonpatch<2.0,>=1.33->langchain-core<0.4.0,>=0.3.27->langchain-openai) (3.0.0)\n",
      "Requirement already satisfied: orjson<4.0.0,>=3.9.14 in c:\\users\\lucas\\anaconda3\\envs\\3point11\\lib\\site-packages (from langsmith<0.3,>=0.1.125->langchain-core<0.4.0,>=0.3.27->langchain-openai) (3.10.13)\n",
      "Requirement already satisfied: requests-toolbelt<2.0.0,>=1.0.0 in c:\\users\\lucas\\anaconda3\\envs\\3point11\\lib\\site-packages (from langsmith<0.3,>=0.1.125->langchain-core<0.4.0,>=0.3.27->langchain-openai) (1.0.0)\n",
      "Requirement already satisfied: annotated-types>=0.6.0 in c:\\users\\lucas\\anaconda3\\envs\\3point11\\lib\\site-packages (from pydantic<3.0.0,>=2.5.2->langchain-core<0.4.0,>=0.3.27->langchain-openai) (0.7.0)\n",
      "Requirement already satisfied: pydantic-core==2.27.2 in c:\\users\\lucas\\anaconda3\\envs\\3point11\\lib\\site-packages (from pydantic<3.0.0,>=2.5.2->langchain-core<0.4.0,>=0.3.27->langchain-openai) (2.27.2)\n",
      "Requirement already satisfied: charset-normalizer<4,>=2 in c:\\users\\lucas\\anaconda3\\envs\\3point11\\lib\\site-packages (from requests>=2.26.0->tiktoken<1,>=0.7->langchain-openai) (2.0.4)\n",
      "Requirement already satisfied: urllib3<3,>=1.21.1 in c:\\users\\lucas\\anaconda3\\envs\\3point11\\lib\\site-packages (from requests>=2.26.0->tiktoken<1,>=0.7->langchain-openai) (1.26.8)\n",
      "Requirement already satisfied: colorama in c:\\users\\lucas\\anaconda3\\envs\\3point11\\lib\\site-packages (from tqdm>4->openai<2.0.0,>=1.58.1->langchain-openai) (0.4.4)\n",
      "Downloading langchain_openai-0.2.14-py3-none-any.whl (50 kB)\n",
      "   ---------------------------------------- 0.0/50.9 kB ? eta -:--:--\n",
      "   ---------------------------------------- 50.9/50.9 kB 1.3 MB/s eta 0:00:00\n",
      "Downloading openai-1.58.1-py3-none-any.whl (454 kB)\n",
      "   ---------------------------------------- 0.0/454.3 kB ? eta -:--:--\n",
      "   --------------------------------------- 454.3/454.3 kB 29.6 MB/s eta 0:00:00\n",
      "Downloading jiter-0.8.2-cp311-cp311-win_amd64.whl (206 kB)\n",
      "   ---------------------------------------- 0.0/206.7 kB ? eta -:--:--\n",
      "   ---------------------------------------- 206.7/206.7 kB ? eta 0:00:00\n",
      "Installing collected packages: jiter, openai, langchain-openai\n",
      "  Attempting uninstall: openai\n",
      "    Found existing installation: openai 1.35.3\n",
      "    Uninstalling openai-1.35.3:\n",
      "      Successfully uninstalled openai-1.35.3\n",
      "Successfully installed jiter-0.8.2 langchain-openai-0.2.14 openai-1.58.1\n"
     ]
    }
   ],
   "source": [
    "!pip install -U langchain-openai"
   ]
  },
  {
   "cell_type": "markdown",
   "metadata": {},
   "source": [
    "Importando modelo"
   ]
  },
  {
   "cell_type": "code",
   "execution_count": 1,
   "metadata": {},
   "outputs": [],
   "source": [
    "import os\n",
    "from langchain_openai import ChatOpenAI\n",
    "\n",
    "if not os.environ.get(\"OPENAI_API_KEY\"):\n",
    "    os.environ[\"OPENAI_API_KEY\"] = os.environ.get('OPEN_AI_KEY')\n",
    "\n",
    "llm = ChatOpenAI(model=\"gpt-4o-mini\")"
   ]
  },
  {
   "cell_type": "markdown",
   "metadata": {},
   "source": [
    "Importando embeeding: O embeeding converte texto em vetor"
   ]
  },
  {
   "cell_type": "code",
   "execution_count": 2,
   "metadata": {},
   "outputs": [],
   "source": [
    "import os\n",
    "\n",
    "if not os.environ.get(\"OPENAI_API_KEY\"):\n",
    "    os.environ[\"OPENAI_API_KEY\"] = os.environ.get('OPEN_AI_KEY')\n",
    "    \n",
    "from langchain_openai import OpenAIEmbeddings\n",
    "\n",
    "embeddings = OpenAIEmbeddings(model=\"text-embedding-3-large\")"
   ]
  },
  {
   "cell_type": "markdown",
   "metadata": {},
   "source": [
    "Importa um Vector Store: Ele é que faz a busca no texto que você fez embeeding"
   ]
  },
  {
   "cell_type": "code",
   "execution_count": 3,
   "metadata": {},
   "outputs": [],
   "source": [
    "from langchain_core.vectorstores import InMemoryVectorStore\n",
    "\n",
    "vector_store = InMemoryVectorStore(embeddings)"
   ]
  },
  {
   "cell_type": "markdown",
   "metadata": {},
   "source": [
    "Neste trecho vai carregar o site e dividir o conteúdo do texto do site que se fará RAG em chunks de tamanho 1000 "
   ]
  },
  {
   "cell_type": "code",
   "execution_count": 4,
   "metadata": {},
   "outputs": [
    {
     "name": "stderr",
     "output_type": "stream",
     "text": [
      "USER_AGENT environment variable not set, consider setting it to identify your requests.\n"
     ]
    }
   ],
   "source": [
    "import bs4\n",
    "from langchain import hub\n",
    "from langchain_community.document_loaders import WebBaseLoader\n",
    "from langchain_core.documents import Document\n",
    "from langchain_text_splitters import RecursiveCharacterTextSplitter\n",
    "from langgraph.graph import START, StateGraph\n",
    "from typing_extensions import List, TypedDict\n",
    "\n",
    "# Já faz o filtro do que realmente importa extrair do site.\n",
    "bs4_strainer = bs4.SoupStrainer(class_=(\"biotop\"))\n",
    "\n",
    "# Load and chunk contents of the blog\n",
    "loader = WebBaseLoader(\n",
    "    web_paths=(\"https://www.statsf1.com/en/2024/abou-dhabi.aspx\",),\n",
    "    bs_kwargs={\"parse_only\": bs4_strainer},\n",
    ")\n",
    "\n",
    "docs = loader.load()\n",
    "\n",
    "text_splitter = RecursiveCharacterTextSplitter(chunk_size=1000, chunk_overlap=200)\n",
    "all_splits = text_splitter.split_documents(docs)"
   ]
  },
  {
   "cell_type": "code",
   "execution_count": 5,
   "metadata": {},
   "outputs": [
    {
     "name": "stdout",
     "output_type": "stream",
     "text": [
      "Split blog post into 71 sub-documents.\n"
     ]
    }
   ],
   "source": [
    "print(f\"Split blog post into {len(all_splits)} sub-documents.\")"
   ]
  },
  {
   "cell_type": "markdown",
   "metadata": {},
   "source": [
    "Visualizando o arquivo"
   ]
  },
  {
   "cell_type": "code",
   "execution_count": 6,
   "metadata": {},
   "outputs": [
    {
     "data": {
      "text/plain": [
       "Document(metadata={'source': 'https://www.statsf1.com/en/2024/abou-dhabi.aspx'}, page_content=\"\\n\\nLe clash Russell vs. Verstappen\\nLa guerre est déclarée entre George Russell et Max Verstappen. Huit jours plus tôt, au Qatar, le Néerlandais a été dépossédé de la pole position au profit du Britannique, sous prétexte qu'il aurait gêné celui-ci en roulant trop lentement à la fin des qualifications. Furieux, Verstappen a eu une vive altercation avec son adversaire à la sortie du collège des commissaires, puis a affirmé face caméra n'avoir «\\xa0plus aucun respect\\xa0» pour celui-ci. Là-bas, Russell a refusé de répondre, se contentant de mettre cette altercation au compte du caractère sanguin du pilote Red Bull. Mais à Abou Dhabi, il lâche les chiens. Dévoilant sa propre version des faits, il accuse Verstappen de l'avoir menacé verbalement. «\\xa0Avant même que je dise un mot aux commissaires, il jurait contre ceux-ci, narre-t-il. Il était en colère avant même que je ne parle, mais au final, les faits sont les faits. Il allait trop lentement. Puis, quand je suis sorti du bureau des commissaires, il m'a dit: ''Je ne sais pas pourquoi tu veux me bais*r comme ça, tu me déçois tellement\\xa0! J'allais te laisser passer, mais maintenant, s'il le faut, je vais te mettre la tête dans le mur\\xa0!''\\xa0»\\n\\nRussell estime que l'agressivité de Verstappen, ses méthodes d'intimidation, aussi bien en dehors que sur la piste, doivent désormais être réprimées: «\\xa0Il est hors de question que j'accepte de tels propos. Max intimide les gens depuis des années. On ne peut pas remettre en question ses capacités de pilote, mais il ne sait pas gérer l'adversité. Chaque fois que quelque chose va à son encontre, comme à Djeddah ou au Brésil en 2021, il dérape. Il se croit au-dessus des lois. Il va trop loin.\\xa0» Pis, Russell insinue que le comportement de Verstappen irrite même chez Red Bull: «\\xa0 Cette année, dès la première course où il n'a pas été compétitif, il s'en est pris à son équipe, et je sais que la semaine suivante, un quart de ses ingénieurs envoyaient leur CV chez Mercedes, McLaren ou Aston. Je ne respecte pas quelqu'un qui n'apprécie pas ceux qui lui ont donné la chance d'être performant.\\xa0» L'Anglais lève l'étendard de la révolte contre ce «\\xa0caïd\\xa0», rappelant au passage les conditions de son premier sacre: «\\xa0Personne ne s'est dressé contre lui jusqu'à maintenant. On l'a laissé faire parce que personne ne lui a tenu tête. Hamilton l'a fait en 2021, et a perdu injustement.\\xa0» Se laissant peut-être emporter par la colère, Russell profère même cette grave accusation: «\\xa0Ici, en 2021, si Verstappen avait perdu, Michael Masi aurait pu craindre pour sa vie.\\xa0»\\n\\nÉvidemment, Max Verstappen réplique sur le même ton à son contempteur et attaque notamment son récit des événements de Losail: «\\xa0Je ne supporte pas ses manières. Il m'attaque de manière inacceptable devant les commissaires, puis fait comme si de rien n'était le lendemain, en me tapotant l'épaule. Mais moi je pense: ''Reste loin de moi\\xa0!''. Il invente toutes sortes de bêtises. Pour ma part, je suis toujours le même, à la maison comme sur le circuit. On ne peut pas en dire autant de tout le monde\\xa0!\\xa0» Et pour ce qui concerne les commentaires de Russell sur l'issue du championnat 2021, le Hollandais ne retient pas ses coups: «\\xa0C'est un perdant, un traître, un menteur qui assemble des choses qui ne collent pas ensemble. Mais je comprends, c'est difficile pour lui, pour Mercedes. On leur a piqué beaucoup d'ingénieurs. Et la semaine dernière, ils étaient en pole grâce à leurs pinailleries. Mais au bout de 300 mètres, j'étais devant et j'ai gagné\\xa0!\\xa0»\\n\\nLa querelle entre Verstappen et Russell est d'autant plus violente que leurs patrons respectifs s'en mêlent. Tout d'abord, Christian Horner s'en prend au pilote Mercedes: «\\xa0La pénalité subie par Max était surtout due aux jérémiades de Russell, qui a été assez hystérique le week-end dernier. Je pense qu'il y avait là un peu de stratégie de sa part.\\xa0» Bien sûr Toto Wolff réplique, en évitant de mordre Verstappen. Sait-on jamais, s'il pouvait le recruter à l'avenir\\xa0?... L'Autrichien attaque donc son meilleur ennemi Horner: «\\xa0Pourquoi se sent-il en droit de commenter ce que dit Russell\\xa0? Pour moi, c'est une affaire entre George et Max et je ne veux pas m'impliquer là-dedans, mais si Horner traite George d'hystérique, il dépasse les bornes. Certes, sa qualité première n'est pas la psychologie, mais comment ose-t-il commenter l'état d'esprit de mon pilote\\xa0? C'est juste un petit fox-terrier qui jappe. Il a toujours quelque chose à dire\\xa0!\\xa0» Le patron de Red Bull répond par l'ironie et le calembour: «\\xa0J'adore les terriers, je pense que ce sont de super chiens, très fidèles. J'avais deux West Highland terriers appelés Bernie et Flavio. Bernie était un petit chien agressif, il s'en prenait à n'importe qui. Flavio était un peu plus calme, et mangeait probablement un peu trop. Donc, je pense qu'être assimilé à un terrier n'est pas une mauvaise chose. C'est un petit chien qui n'a pas peur des gros. C'est mieux que d'être un loup\\xa0! [NDLA\\xa0: wolf en anglais]\\xa0»\\n\\nHamilton - Mercedes: l'heure des adieux\\nC'est ce dimanche 8 décembre que les chemins de Lewis Hamilton et de Mercedes se séparent, dans une ambiance morose. Le Britannique vit en effet une fin de saison très difficile au volant d'une W15 évoluée selon les désirs de son équipier George Russell, et dont le comportement est de toute façon resté insaisissable tout au long de l'année. Mais ces derniers temps, Sir Lewis est apparu las, démotivé, au point de commettre d'inhabituelles erreurs de pilotage. Quelques fans inconditionnels pensent que Mercedes lui fournit du mauvais matériel, accusation répercutée par les tabloïds anglais. D'autres avancent que son talent serait en train de s'émousser. Après tout, Hamilton aura 40 ans en janvier 2025... «\\xa0Je suis toujours capable de faire de bonnes choses, dément-il fermement. J'ai toujours ça en moi. C'est juste que la voiture ne va pas assez vite\\xa0!\\xa0» Toto Wolff explique pour sa part que le septuple champion du monde n'est pas à l'aise avec les F1 à effet de sol apparues en 2022: «\\xa0Cette génération de voitures ne convient pas à son style de pilotage. Il aime être agressif en entrée de virage, mais ces modèles ne peuvent le supporter, notamment sur un tour de qualification, où il est à la limite.\\xa0» Ainsi, beaucoup se demandent comme Hamilton se comportera l'an prochain chez Ferrari, dans un environnement totalement inédit pour lui. Pourra-t-il rivaliser avec Charles Leclerc qui est dans ses meubles à Maranello\\xa0? Mais son meilleur ennemi Max Verstappen se garde bien de l'enterrer: «\\xa0Il était difficile pour Lewis de se motiver cette année car il savait qu'il quittait Mercedes. Mais quand il a eu une voiture capable de gagner cet été, il a saisi les opportunités. Il aura un nouveau défi l'année prochaine et sera très, très motivé de montrer qu'il n'est pas septuple champion du monde par hasard.\\xa0»\\n\\nÀ l'heure de quitter Mercedes, Lewis Hamilton préfère se souvenir des jours heureux des années 2010, quand lui et son équipe régnaient sans partage sur la F1. Cette collaboration de douze saisons est en effet la plus fructueuse de l'histoire de la discipline: en 256 Grands Prix avec la firme allemande, Hamilton a accumulé 6 titres mondiaux, 84 victoires, 78 pole positions, 55 meilleurs tours et 153 podiums... Il faudrait à vrai dire englober dans ce panorama l'ensemble sa carrière, puisqu'il était propulsé par un moteur Mercedes lorsqu'il conduisait chez McLaren entre 2007 et 2012 ! C'est donc avec une grande émotion que Hamilton dit au revoir à tous ses collaborateurs, et notamment au premier d'entre eux, son ingénieur Peter Bonnington, dont le fameux «\\xa0It's Hammer Time\\xa0!\\xa0» lancé pour le stimuler a scandé ces longues saisons. «\\xa0C'est l'un de mes meilleurs amis, dit-il à propos de «\\xa0Bono\\xa0». Je ne m'attendais pas à une relation pareille, car il avait travaillé avec de très grands champions comme Michael Schumacher, mais il m'a soutenu chaque jour pendant douze ans, sans faillir.\\xa0»\\n\\nPrésentation de l'épreuve\\nCette 24e et dernière manche de la saison 2024 décidera du championnat du monde des constructeurs. McLaren-Mercedes aborde cette ultime étape avec un avantage assez confortable de 21 points sur Ferrari. Pour décrocher la timbale, la Scuderia doit donc glaner beaucoup de points, sans doute gagner la course, et prier pour que la scoumoune s'abatte sur sa rivale. Ce qui n'a rien d'évident puisque la MCL38 n'a pas subi une seule panne en course cette saison. Néanmoins, le clan McLaren demeure très prudent, surtout que le tracé de Yas Marina semble mieux convenir à la Ferrari. Les Papayes comptent toutefois sur les Red Bull et les Mercedes pour prendre des points à leurs adversaires, comme le souligne Oscar Piastri: «\\xa0Le week-end sera très disputé entre les quatre premières équipes, et pas seulement entre nous et Ferrari, ce qui signifie que les autres concurrents peuvent potentiellement jouer un rôle dans la décision du championnat.\\xa0» Lando Norris estime pour sa part que la meilleure façon de s'assurer du titre est encore de gagner le Grand Prix. «\\xa0Nous voulons battre Ferrari, mais avec panache\\xa0!\\xa0» clame-t-il.\\n\\nChez Ferrari, la motivation est au maximum. «\\xa0C'est un grand défi, nous avons une énorme motivation, dit Frédéric Vasseur. Sur le papier, pour différentes raisons, la température ou la configuration de la piste, nous serons probablement en meilleure forme que McLaren, mais ce n'est pas certain. Cela dépend principalement de la gestion des pneus, car l'écart entre les voitures est si faible que la gestion des gommes est la donnée-clé de la course. Il faudra être très bon en ce domaine.\\xa0» «\\xa0On ne va pas se mentir, il nous faudra de la chance pour être sacré, mais c'est encore jouable\\xa0», avance pour sa part Charles Leclerc, qui lorgne aussi sur le titre de vice-champion du monde. Il ne compte en effet que 8 points de retard sur Lando Norris et peut encore empocher ce titre honorifique. Hélas, le week-end commence mal pour le Monégasque. Victime d'une intoxication alimentaire, il peine à dormir jeudi soir, puis apprend le lendemain qu'il écopera de dix places de pénalité sur la grille à cause d'un changement de batterie. Voilà qui amoindrit singulièrement ses ambitions et celles de son équipe...\\n\\nUn enjeu plus mineur est la sixième place du championnat des constructeurs que se disputent Alpine-Renault (59 pts), Haas-Ferrari (54 pts) et Visa Cash RB (46 pts). À regarder l'ensemble de la saison, il est évident que la petite écurie américaine a davantage de mérite que sa rivale anglo-française, qui ne doit cette position qu'à son double podium brésilien. Mais la morale n'a rien à faire là-dedans. Des millions de dollars sont en jeu. Alpine prend toutefois un risque en titularisant pour cette ultime épreuve le néophyte Jack Doohan, tandis que Haas aligne avec Nico Hülkenberg et Kevin Magnussen un duo très expérimenté. Pierre Gasly aura donc la lourde responsabilité de se battre contre ceux-ci sans le secours de son équipier. Du côté de Visa Cash, on est résigné: la VCARB n'est pas assez performante en cette fin de saison pour espérer mieux que la huitième place du championnat.\\n\\nCe Grand Prix est la dernière occasion pour les équipes de faire rouler des néophytes en essais libres, d'autant que beaucoup participeront aux tests qui se tiendront sur ce même circuit la semaine suivante. Ferrari confie la SF-24 de Carlos Sainz à son pilote de développement Arthur Leclerc, le frère cadet de Charles. Ainsi, pour la première fois dans l'histoire de la F1, deux frères pilotent pour la même écurie, le temps d'une séance. Par ailleurs, Max Verstappen prêtera sa Red Bull à Isack Hadjar, lequel affronte aussi ce week-end Gabriel Bortoleto pour la couronne en F2. En vain: une panne de moteur donnera le titre au Brésilien. Chez McLaren, Oscar Piastri cède son volant au Japonais Ryu Hirakawa, pilier de Toyota en Endurance. Ce dernier roulera ensuite pour Haas lors des essais de post-saison. Williams teste le jeune Anglais Luke Browning, vainqueur l'an passé du prestigieux GP de Macao de F3. Celui-ci s'installe dans le baquet d'Alexander Albon. Déjà aperçu à Suzuka, le Japonais Ayumu Iwasa retrouve le volant d'une Visa Cash RB, celle de son compatriote Yuki Tsunoda. Enfin, Felipe Drugovich pilote l'Aston Martin dévolue à Lance Stroll.\\n\\nMalgré ses embrouilles avec George Russell, Max Verstappen a tout de même une excellente nouvelle à annoncer ce week-end: sa compagne Kelly Piquet est enceinte de leur premier enfant commun (elle a déjà une fille de sa précédente relation avec Daniil Kvyat). Cette information fait dresser l'oreille de quelques observateurs qui se souviennent que le nouveau quadruple champion du monde répète à l'envi qu'il ne fera pas de vieux os en F1, et ne se lancera pas dans une chasse aux records de succès ou de longévité, comme ses aînés Fernando Alonso et Lewis Hamilton. Il précise toutefois à Abou Dhabi que cette paternité ne précipitera pas son départ. Mais, s'il a un garçon, Max le programmera-t-il pour devenir pilote de course, comme son père Jos l'a fait jadis avec lui-même\\xa0? «\\xa0Il fera ce qu'il voudra, répond-il. Mais si le mini Verstappen-Piquet veut poursuivre une carrière de pilote, il ne manquera pas de mentors avec toute notre famille\\xa0!\\n\\nLe sort de Sergio Pérez est le principal point d'interrogation de cette fin de saison. Comme celui-ci a inscrit seulement 9 points lors des sept derniers Grands Prix (!), il paraît fort improbable que Red Bull le conserve en 2025. En vérité, les deux parties négocient la rupture du contrat signé au printemps dernier. Il s'agit de s'accorder sur une indemnité de rupture satisfaisante pour le pilote comme pour l'écurie. Mais Red Bull aurait préféré que Pérez prenne les devants et annonce de lui-même son départ, voire sa retraite. Une façon comme une autre de sauver la face. Mais Pérez s'y refuse, sans doute parce qu'il espère obtenir de nouvelles contreparties. Quelques sources annoncent que Red Bull accepterait de «\\xa0réajuster\\xa0» son contrat, c'est-à-dire lui confierait un rôle d'ambassadeur. Pérez garderait ainsi son salaire et RBR économiserait de coûteux dédommagements, tout en conservant peut-être l'appui des sponsors du Mexicain. Son successeur serait également choisi. Helmut Marko serait parvenu à promouvoir son protégé Liam Lawson, au détriment de Yuki Tsunoda, qui était dit-on davantage soutenu par Christian Horner. Preuve que l'influence du vieil Autrichien est toujours aussi forte... Tsunoda pilotera tout de même la RB20 lors des essais de la semaine suivante, mais seulement afin de satisfaire Honda. Lawson sera pour sa part logiquement remplacé chez Racing Bulls par Isack Hadjar.\\n\\nPlusieurs pilotes font leurs adieux à la Formule 1 ce dimanche soir. Des adieux peut-être provisoires, car l'arrivée de Cadillac en 2026 sera pour certains une opportunité de rebond. C'est notamment le cas de Valtteri Bottas, heureux d'achever une année «\\xa0pourrie\\xa0» avec Stake-Sauber. Le Finlandais ne cache pas qu'il regrette d'avoir pris le chemin d'Hinwil voici trois ans: «\\xa0C'était une erreur. Tout a bien commencé la première année, puis ce fut la dégringolade. Si je pouvais revenir en arrière, j'irais ailleurs.\\xa0» En attendant, Bottas sera probablement réserviste chez Mercedes en 2025, avant de viser un come-back en 2026. L'avenir de son équipier Guanyu Zhou est plus incertain, mais ses généreux sponsors devraient lui trouver un strapontin d'essayeur. Kevin Magnussen tire lui semble-t-il un trait définitif sur la F1, puisqu'il rejoindra l'an prochain BMW en Endurance. Enfin, le jeune Franco Colapinto, révélation de cette fin de saison, restera chez Williams comme réserviste, tout en lorgnant sur le premier volant disponible.\\n\\nL'éviction d'Esteban Ocon au profit de Jack Doohan a suscité beaucoup de réactions négatives sur les réseaux sociaux. De nombreux fans dénoncent l'inélégance des dirigeants d'Alpine qui privent ainsi le Français d'adieux en bonne et due forme. Surtout, le chantage auquel l'a soumis Flavio Briatore (céder son baquet immédiatement ou renoncer aux essais de post-saison avec Haas) apparaît odieux. À Abou Dhabi, le team principal Oliver Oakes rajoute son grain de sel en sous-entendant que Ocon trahissait Alpine au profit de son futur employeur: «\\xa0Nous ne sommes pas là pour être gentils. Esteban a occupé un grand rôle dans cette équipe, mais tous les chapitres doivent se terminer afin que les autres puissent commencer. Nous avons tenu parole et il pourra faire les tests avec Haas. Et puis, sans être méchant, dernièrement sa contribution était limitée. Il marquait peu de points et était souvent éliminé en Q1. Il ne faut pas oublier qu'il roulera pour l'équipe avec laquelle nous luttons pour la sixième place au championnat, donc c'est aussi bien qu'il n'y ait pas l'ombre d'un doute sur son implication\\xa0» Si en effet le pilote normand n'était pas du tout à l'aise ces temps derniers au volant de l'A524 évoluée, il est injurieux d'imaginer qu'un pilote professionnel puisse saboter volontairement son travail. Oakes oublie par ailleurs que si Alpine devance Haas au classement, c'est bien grâce à la superbe deuxième place obtenue par Ocon sous la pluie à Interlagos...\\n\\nJack Doohan dispute ce week-end son premier Grand Prix, pour une répétition générale en vue de ses grands débuts en 2025. Au passage, c'est la première fois que la F1 accueille le fils d'un champion du monde de moto. Après une saison entière sans compétition, le jeune Australien ne s'attend pas à briller à Abou Dhabi. Il lui faudra simplement ne pas commettre de graves erreurs. Doohan est du reste bien préparé, après de longues journées passées dans le simulateur d'Enstone. Il a aussi l'avantage de déjà connaître le circuit de Yas Marina. «\\xa0Alpine me prépare depuis longtemps à la F1, que ce soit avec les essais libres, les séances sur d'anciennes voitures ou le simulateur, confie-t-il. Je suis en outre très fier d'être le premier pilote de leur académie à être titularisé. Pour ce week-end, je n'ai pas d'attente particulière.\\xa0» Auparavant, Doohan s'est offert une petite distraction sur le circuit de Magny-Cours avec l'ancien rallyman Petter Solberg. Dans le cadre d'un échange organisé par leur sponsor commun Castrol, l'Australien a conduit une Renault Clio de rallye, alors que le Norvégien s'est essayé à la F1 avec la Lotus-Renault E21 de 2013, repeinte aux couleurs d'Alpine.\\n\\nCette fin d'année est pénible pour Fernando Alonso qui compose avec plusieurs problèmes de santé. En octobre, il a d'abord été victime d'une infection respiratoire, d'où sa halte en Europe entre les GP de Mexico et de São Paulo. Puis, à Interlagos, les rebonds générés par le revêtement très bosselé lui ont abîmé une épaule. «\\xa0Mais on prend un anti-douleur et on y retourne\\xa0! lâche-t-il. Cela dit, je suis content que la saison s'achève. Vingt-quatre courses, c'est très exigeant pour tout le monde. J'ai tenu au mental.\\xa0» Mais qu'on ne le dise pas trop vieux pour la F1 à 43 ans\\xa0! «\\xa0Parfois, après la course, les autres sont comme des zombies et moi je me porte bien\\xa0! Ce n'est pas une question d'âge, juste des petites blessures.\\xa0» Pour ce qui est du niveau de l'Aston Martin, Alonso ne dissimule pas sa déception, mais a confiance en l'avenir: «\\xa0Désormais, seule Sauber est moins bonne que nous. Toutefois nous savons comment nous améliorer en 2025. Et puis 2026 va rebattre toutes les cartes. Je sais que lorsque j'aurai une bonne voiture, je serai le plus haut possible.\\xa0» Et puis l'Espagnol n'oublie pas non plus de cajoler le fils de son patron: «\\xa0Je travaille pour Lance qui sera bientôt le leader de l'équipe\\xa0!\\xa0» clame-t-il sans rire. Stroll Jr. n'a plus inscrit de points depuis le GP de Hongrie...\\n\\nLe 5 décembre, General Motors annonce la nomination de Graeme Lowdon au poste de directeur de la future écurie Cadillac qui vient d'obtenir son billet d'entrée en F1 pour la saison 2026. Le géant américain jette son dévolu sur un homme d'expérience. Lowdon, 59 ans, fut en effet le directeur sportif de l'ex-écurie Manor de 2010 à 2015, puis a rejoint GM en 2022 pour aider au développement du projet F1. Il était en outre toujours présent dans le paddock en tant qu'agent de Guanyu Zhou. L'organigramme de la 11e écurie du plateau se met ainsi peu à peu en place, après les arrivées annoncées ces derniers mois du directeur technique Nick Chester, du conseiller spécial Pat Symonds et du directeur des opérations Rob White, tous anciens de l'usine d'Enstone.\\n\\nEssais et qualifications\\nVendredi après-midi, C. Leclerc réalise le meilleur chrono (1'24''321''') des premiers essais libres devant Norris et Hamilton. Pour l'anecdote, A. Leclerc obtient le 18e temps, à près de deux secondes de son frère et équipier d'un jour. Plus tard, dans la soirée, les McLaren prennent le pouvoir lors de la seconde session libre: Norris est le plus rapide (1'23''517'') devant son équipier Piastri. Samedi après-midi, les McLaren confirment leur ascendant, Piastri signant le meilleur temps des EL3 (1'23''433''') devant Norris.\\n\\nLes Papayes sont tout aussi rapides lors des qualifications et monopolisent la première ligne. Norris signe sa huitième pole de la saison (1'22''595''') avec une nette avance sur Piastri (1'22''804'''). Sainz place sa Ferrari en troisième position. Leclerc roule plusieurs fois derrière les limites en Q2 et perd ainsi ses meilleurs chronos. Éliminé dès cette seconde étape, il partira 19e du fait de sa pénalité et assume ses erreurs. Pour sa dernière sortie avec Haas, Hülkenberg réalise un exploit en décrochant le 4e temps, mais il est ensuite pénalisé de trois places pour avoir doublé dans la voie des stands. Son équipier Magnussen (14e) rate le coche en Q2. Mécontent de sa Red Bull, Verstappen (4e) frôle la catastrophe en Q3 lorsqu'un gros survirage manque de l'envoyer contre le mur des stands\\xa0! Pérez (10e) réalise une qualification correcte. Gasly est heureux de placer son Alpine-Renault revigorée au 5e rang. Doohan signe le dernier chrono, mais avec peu de retard sur la concurrence, et partira 17e du fait des pénalités d'autres pilotes.\\n\\nLes Mercedes sont rapides, mais hélas Russell (6e) se montre effacé en Q3, et surtout Hamilton (16e) est éliminé dès la Q1 à cause d'une erreur de timing: il n'a pas le temps de réaliser un dernier chrono, puis heurte une borne qui endommage son bolide. Le septuple champion du monde est d'autant plus déçu qu'il était jusqu'ici content de sa W15. «\\xa0Je vais essayer de revenir et une voiture de sécurité peut toujours tout changer ici, n'est-ce pas\\xa0?\\xa0» lâche-t-il. Il n'a pas oublié 2021... Chez Aston Martin, Alonso (8e) fait toujours beaucoup mieux que Stroll (13e). Les Kick-Sauber confirment leur progression et Bottas (9e) atteint la Q3 pour la première fois de l'année\\xa0! Éliminé en Q1, Zhou (15e) dit avoir manqué d'aspiration. Les Visa Cash RB (Tsunoda 11e, Lawson 12e) manquent de rythme. Enfin, les Williams sont pénalisées après des changements sur leurs groupes propulseurs. Albon (18e) déplore de toute façon un manque de performance et Colapinto (20e) a subi des dégâts sur son plancher.\\n\\nLe Grand Prix\\nL'atmosphère est très douce (27°C) en ce début de soirée sur Yas Marina, mais la température de la piste est nettement plus basse que la veille (32°C au lieu de 42°C). Les pneumatiques devraient donc moins souffrir. Tous les pilotes partent en gommes médiums (C4), sauf Hamilton qui s'élance avec le composé dur (C3). Cette finale du championnat 2024 est un beau succès avec des tribunes remplies, notamment par les fans de Max Verstappen qui tiennent à fêter le quatrième sacre de leur idole.\\n\\nDépart: Leclerc prend un bon envol tandis que Verstappen, très bien parti, double aussitôt Sainz, prend l'aspiration de Piastri, et se décale brusquement à l'intérieur au freinage pour surprendre ce dernier. Il est bien trop optimiste et touche la McLaren. Les deux bolides pirouettent, mais si Verstappen exécute un 360° et se relance au cœur du peloton, Piastri repart dernier après un tête-à-queue. Tsunoda peine à démarrer suite à un problème d'embrayage.\\n\\n1er tour: Leclerc profite d'un bouchon aux abords du virage n°5 pour contourner moult concurrents par l'extérieur. Le Monégasque se retrouve déjà 8e\\xa0! Plus loin, au virage n°6, Bottas harponne Pérez et l'expédie en tête-à-queue. Le Mexicain se gare peu après devant l'échappatoire du virage n°10 avec une direction endommagée.\\n\\n2e: La\\xa0«\\xa0voiture de sécurité virtuelle\\xa0» est enclenchée pour permettre de dégager la Red Bull de Pérez. Norris devance Sainz, Gasly, Russell, Hülkenberg, Alonso, Magnussen, Leclerc, Stroll et Lawson. Verstappen est onzième.\\n\\n3e: Le drapeau vert est agité alors que le peloton aborde la longue ligne droite. Le DRS est autorisé dans la foulée. Russell attaque en vain Gasly par l'extérieur aux virages n°6 et 9. Verstappen efface Lawson. Inattentif, Piastri frôle le train arrière de Colapinto au bout de la longue ligne droite. L'Argentin est victime d'une crevaison dans la foulée.\\n\\n4e: Norris a repoussé Sainz à plus de deux secondes et demie. Colapinto passe aux stands pour changer ses pneus.\\n\\n5e: Piastri est accueilli par McLaren pour mettre des pneus durs (4.4s.). Il repart en 18e position. Verstappen reçoit 10 secondes de pénalité pour avoir percuté l'Australien au départ.\\n\\n6e: Verstappen dépasse Stroll. Bottas écope lui aussi de 10 secondes de punition pour avoir éliminé Pérez. Le Finlandais change ses pneus et exécute la pénalité dans la foulée.\\n\\n7e: Leclerc déborde Magnussen dans la grande ligne droite et se retrouve septième.\\n\\n8e: Norris mène devant Sainz (3s.), Gasly (6s.), Russell (6.8s.), Hülkenberg (7.4s.), Alonso (8.8s.), Leclerc (10.2s.), Magnussen (11.5s.), Verstappen (12s.), Stroll (14s.), Lawson (15.6s.) et Hamilton (16.2s.).\\n\\n9e: Verstappen double Magnussen au virage n°9. Piastri reçoit lui aussi 10 secondes de pénalité pour avoir heurté Colapinto.\\n\\n10e: Pressé par Leclerc, Alonso vire large au premier tournant. Il se fait ensuite dépasser par le pilote Ferrari dans la longue pleine charge.\\n\\n11e: Norris précède Sainz (3.5s.), Gasly (8.7s.), Russell (9.8s.), Hülkenberg (11.6s.), Leclerc (12.2s.), Alonso (14s.), Verstappen (14.6s.), Magnussen (16.7s.) et Stroll (18.7s.). Hamilton double Lawson au bout de la longue ligne droite, mais le Néo-Zélandais contre-attaque et reprend l'avantage dans l'accélération suivante.\\n\\n12e: Leclerc double Hülkenberg et Verstappen déborde Alonso. Hamilton vient à bout de Lawson. Stroll bascule sur les gommes dures.\\n\\n13e: Magnussen s'empare de pneus durs (3.2s.). Zhou et Albon font de même. L'arrêt du Chinois dure 5 secondes de plus, car il est puni pour un faux départ.\\n\\n14e: Le soleil se couche sur Yas Marina. Russell menace toujours Gasly. Hülkenberg (2.5s.) et Alonso (4.3s.) chaussent les enveloppes blanches.\\n\\n15e: Norris a trois secondes et demie d'avance sur Sainz. Gasly s'empare des pneus blancs (2.6s.) et ressort derrière son équipier Doohan qui lui cède aussitôt le passage.\\n\\n16e: Norris devance Sainz (3.8s.), Russell (14.3s.), Leclerc (15.5s.), Verstappen (19.8s.), Hamilton (25.3s.), Lawson (29s.), Tsunoda (34s.), Gasly (35s.) et Doohan (37.5s.).\\n\\n17e: Gasly déborde Tsunoda au virage n°6. Le Japonais ouvre son DRS à la réaccélération et contourne le Rouennais par l'extérieur du virage n°9. Gasly ne quitte pas sa trajectoire et garde l'ascendant à la sortie de cette courbe.\\n\\n19e: Norris devance Sainz de quatre secondes, le duo Russell - Leclerc de dix-sept secondes, et Verstappen de vingt-deux secondes. Hülkenberg efface Tsunoda, désolé de rester en piste avec des pneus morts.\\n\\n21e: Leclerc se saisit de gommes dures (2.7s.) et se réinsère entre Gasly et Hülkenberg.\\n\\n22e: Norris est premier devant Sainz (4s.), Russell (20s.), Verstappen (25.3s.), Hamilton (30s.), Lawson (40s.), Gasly (41s.), Leclerc (41.5s.), Hülkenberg (42s.) et Tsunoda (44.7s.).\\n\\n23e: Gasly et Leclerc dépassent Lawson. Tsunoda et Doohan basculent sur les gommes dures.\\n\\n24e: Leclerc déborde aisément Gasly dans la longue ligne droite au moyen du DRS. Lawson change de pneus, mais il repart avec une roue avant-gauche mal serrée.\\n\\n25e: Sainz est revenu à trois secondes et demie de Norris. Lawson doit repasser par les stands pour faire resserrer ses roues.\\n\\n26e: Sainz est chez Ferrari pour mettre les enveloppes blanches (2.2s.) et repart en troisième position.\\n\\n27e: Norris arrive aux stands et se saisit des pneus durs dans un arrêt-éclair (2s.). Il retrouve la piste une seconde et demie devant Sainz. Russell prend aussi les pneus blancs (2.4s.). Il repart derrière Gasly qu'il double peu après.\\n\\n28e: Norris devance Sainz (2.1s.), Verstappen (10s.), Hamilton (13s.), Leclerc (22s.), Russell (25s.), Gasly (26.3s.), Hülkenberg (27.6s.), Alonso (34s.), Piastri (35.4s.), Stroll (39.7s.) et Magnussen (41.2s.). Bon dernier, Colapinto renonce suite à un problème de moteur.\\n\\n30e: Verstappen arrive chez Red Bull, subit sa pénalité puis chausse les pneus durs. Il repart en 11e position. Magnussen et Lawson remplacent de nouveau leurs gommes.\\n\\n31e: Verstappen efface Stroll. Magnussen déborde Bottas dans la longue ligne droite. Mais au freinage, le Finlandais bloque ses roues et harponne violemment la Haas, expédiée en tête-à-queue. Tous deux rejoignent les stands dans la foulée.\\n\\n32e: Deux secondes séparent Norris et Sainz. Magnussen atteint le stand Haas et peut repartir après avoir pris des pneus tendres. En revanche, le train avant de Bottas est démoli. Le Finlandais ne peut qu'abandonner.\\n\\n33e: Piastri est chez McLaren pour subir sa pénalité et chausser des pneus durs. Il repart en 15e position. Stroll remplace aussi ses gommes.\\n\\n34e: Norris précède Sainz (2.2s.), Hamilton (20s.), Leclerc (23s.), Russell (26.2s.), Gasly (32.6s.), Hülkenberg (34.2s.), Alonso (42s.), Verstappen (45.5s.) et Albon (51s.).\\n\\n35e: Hamilton fait escale chez Mercedes pour mettre des pneus médiums (2.5s.) et quitte les stands juste devant Albon.\\n\\n36e: L'intervalle entre Norris et Sainz atteint trois secondes. Verstappen dépasse Alonso dans la grande ligne droite.\\n\\n38e: Alonso reprend un deuxième jeu de pneus durs et se relance en 12e position, derrière Tsunoda.\\n\\n39e: Norris mène devant Sainz (3.5s.), Leclerc (23.5s.), Russell (27.5s.), Gasly (38.5s.), Hülkenberg (40.6s.), Hamilton (43.6s.), Verstappen (47s.), Albon (58s.) et Zhou (1m. 02s.).\\n\\n40e: Hamilton revient sur Hülkenberg et le déborde aisément. Second changement de pneus pour Zhou.\\n\\n41e: Norris porte son avance sur Sainz à près de cinq secondes. Hamilton est aux trousses de Gasly. Piastri a doublé Stroll et Doohan, et se retrouve 12e.\\n\\n42e: Hamilton déborde Gasly dans la longe accélération et grimpe ainsi au cinquième rang.\\n\\n43e: Verstappen dépasse Hülkenberg par l'extérieur au virage n°6. Gasly sera sa prochaine cible.\\n\\n44e: Norris devance Sainz (5s.), Leclerc (27.5s.), Russell (31.3s.), Hamilton (43.5s.), Gasly (44.2s.), Verstappen (45s.), Hülkenberg (47.3s.), Albon (1m. 04s.), Tsunoda (1m. 13s.), Alonso (1m. 14s.) et Piastri (1m. 16s.).\\n\\n45e: Verstappen dépasse Gasly au virage n°9. Alonso déborde Tsunoda, bientôt attaqué par Piastri. Dans la roue du Japonais, l'Australien rattrape un début d'embardée au virage n°11 et évite de peu un accident catastrophique.\\n\\n47e: Norris compte six secondes de marge sur Sainz. Hamilton remonte sur son équipier Russell: moins de dix secondes les séparent. Piastri déborde Tsunoda au virage n°6, mais ce dernier reprend l'ascendant par l'extérieur au freinage suivant.\\n\\n49e: Piastri vient enfin à bout de Tsunoda, par l'extérieur à la sortie du virage n°9.\\n\\n50e: Norris est premier devant Sainz (5.2s.), Leclerc (27.4s.), Russell (32.6s.), Hamilton (39.6s.), Verstappen (48.8s.), Gasly (56s.), Hülkenberg (59s.), Albon (1m. 17s.), Alonso (1m. 18s.) et Piastri (1m. 23s.).\\n\\n51e: Alonso prend la neuvième place à Albon qui ne peut se battre avec ses vieux pneus. Piastri le rattrape à son tour.\\n\\n52e: Sainz ressent des vibrations et pense avoir une crevaison, mais il s'agit d'une fausse alerte. Il concède toutefois désormais sept secondes à Norris.\\n\\n53e: Hamilton n'est plus qu'à trois secondes et demie de Russell. Piastri dépasse Albon et prend ainsi le point de la dixième place.\\n\\n55e:\\xa0Norris précède Sainz (7s.), Leclerc (30s.), Russell (36s.), Hamilton (38.5s.), Verstappen (50s.), Gasly (1m. 05s.), Hülkenberg (1m. 07s.), Alonso (1m. 20s.) et Piastri (1m. 23s.).\\n\\n57e: Hamilton fait la jonction avec Russell. Toto Wolff prévient ce dernier que cette passe d'armes devra être tout à fait loyale. Magnussen chausse des pneus tendres qui lui permettront de réaliser le meilleur tour (1'25''637''') pour son dernier Grand Prix.\\n\\n58e et dernier tour: Lawson se gare dans une échappatoire avec des freins fumants. Hamilton assaille Russell par l'extérieur au virage n°9. Ils franchissent la courbe côte à côte, mais à la sortie Hamilton prend l'avantage et conquiert la quatrième place.\\n\\nLando Norris l'emporte et donne le titre des constructeurs à McLaren. Les Ferrari de Sainz (2e) et Leclerc (3e) l'encadrent sur le podium. Hamilton conclut son aventure chez Mercedes avec une quatrième place, devant Russell. Verstappen se classe sixième. Gasly (7e) permet à Alpine de devancer Haas au championnat. Hülkenberg finit huitième. Alonso est neuvième, Piastri dixième. Viennent ensuite Albon, Stroll, Tsunoda, Zhou, Doohan et Magnussen. Stroll recule de deux rangs à cause d'une pénalité de 5 secondes pour de multiples passages hors limites.\\n\\nAprès la course: McLaren championne du monde\\nAprès vingt-six ans d'attente, McLaren décroche enfin son neuvième championnat du monde des constructeurs. Ce délai paraît invraisemblable pour une équipe aussi emblématique. Et pourtant, si après la campagne victorieuse de 1998, le team de Woking est resté au sommet de la F1 pendant 15 ans, s'il a encore remporté deux titres pilotes (1999 avec Mika Häkkinen, 2008 avec Lewis Hamilton), il n'avait jamais pu remettre la main sur cette couronne. Puis, il y eut ce long déclin amorcé au seuil de la décennie 2010. La collaboration désastreuse avec Honda (2015-2017) et la tumultueuse fin de règne de Ron Dennis ont nécessité une patiente reconstruction sous l'égide d'un authentique passionné, Zak Brown. Celui-ci, assisté par deux team managers de grande qualité, Andreas Seidl puis Andrea Stella, a remis l'équipe sur pied. Ce ne fut pas une mince affaire, surtout pendant les années de la Covid, pendant lesquelles Brown dût convaincre ses actionnaires bahreïnis de maintenir leur soutien malgré des résultats médiocres. «\\xa0En 2020-2021, nous étions vraiment au bord du gouffre,\\xa0reconnaît-il.\\xa0Nous payions toutes nos factures, mais nous étions à quelques mois de fermer boutique. Sans injection de liquidités, nous aurions été en danger.\\xa0» Zak Brown a aussi initié la diversification du Groupe McLaren, désormais présent dans plusieurs championnats mondiaux (IndyCar, Formule E). Surtout, avec Seidl puis Stella, il a modernisé les installations de Woking, en construisant une nouvelle soufflerie, et constitué un staff technique de grande qualité, avec des leaders chevronnés comme Peter Prodromou ou Rob Marshall, tout en instaurant un partage des tâches original entre plusieurs départements qui commence à faire école. Telles furent les bases de ce retour au sommet. «\\xa0Remporter ce titre souligne le chemin parcouru, commente Andrea Stella. Je rappelle souvent à l'équipe que lors de la première course de la saison 2015, cinq secondes nous séparaient de la pole. Nous avons réussi grâce à une foi inébranlable, une résilience immense. Et puis, il y a le personnel. Il faut en faire partie pour mesurer les progrès réalisés par 1200 personnes ces derniers mois. Cela ne doit pas être une fin en soi, mais un point de départ vers de nouveaux succès.\\xa0»\\n\\nCette soirée fut cependant riche en émotion pour les Papayes. D'abord au départ, lorsque Oscar Piastri a été percuté par Max Verstappen. Puis lors du dernier relais: Lando Norris était seul en tête devant les deux Ferrari. Le moindre pépin, la moindre Safety Car auraient pu tout compromettre. «\\xa0Ce furent les deux plus mauvaises heures de ma vie, et de loin\\xa0! J'ai frôlé l'infarctus\\xa0!\\xa0» lance Zak Brown, avant de féliciter chacun de ses employés avec force bourrades. Mais le succès était au bout du chemin grâce à un Lando Norris impeccable. Souvent critiqué cette année pour sa fragilité psychologique, le jeune Anglais a cette fois impeccablement exécuté sa partition. «\\xa0Je suis très, très heureux, dit-il. C'était un jour spécial pour nous tous. Nous avions tout à perdre, et à certains moments, ce n'était pas loin d'être perdu. Les deux Ferrari ont été très rapides et Leclerc a fait du bon travail pour revenir sur le podium. Oscar n'a pas eu de chance. Quand il est sorti, mon cœur s'est mis à battre la chamade. Mais je savais que je pouvais remplir ma mission si je gardais la tête froide. La course a été difficile, surtout après le pit-stop. Je n'ai pas eu le meilleur tour de sortie et j'ai commencé à me battre avec les pneus. L'air sale des attardés a été douloureux. Sainz m'a mis la pression presque jusqu'à la fin.\\xa0» Désormais, Norris se tourne vers 2025, et vise ouvertement la couronne des conducteurs: «\\xa0J'ai appris cette année à croire un peu plus en moi. Je n'ai certainement pas pris le dessus aussi souvent que je l'aurais voulu, en particulier dans mes combats contre Verstappen. Mais je me connais et je sais mieux que quiconque ce que je dois améliorer. J'espère avoir la saison prochaine dès le premier Grand Prix une voiture qui me permettra de me battre pour le titre.\\xa0»\\n\\nOscar Piastri a lui vécut une mauvaise soirée après que Max Verstappen l'a harponné au départ. «\\xa0C'était une course assez misérable, par la faute de Verstappen, glisse-t-il. Mais bon, il est venu présenter ses excuses. Le plus important aujourd'hui est que nous avons remporté le championnat. C'est une immense récompense pour tout ce que notre équipe a accompli cette année. Je ne pourrais pas être plus fier d'elle.\\xa0» Le natif de Melbourne a franchi un palier cette année. S'il n'a pas toujours été très constant, si son rythme en course laisse encore parfois à désirer, il a décroché ses deux premières victoires, et de fort belle manière, à Budapest et à Bakou. Lui aussi annonce viser la couronne des pilotes en 2025...\\n\\nDeux autres éléments sont à souligner. D'abord, McLaren remporte le titre des constructeurs avec un faible pourcentage de victoires sur la saison (25%). Cela démontre à quel point cette saison 2024 fut disputée, avec quatre écuries (Red Bull, McLaren, Ferrari, Mercedes) ayant chacune remporté au moins quatre victoires et signé un doublé. McLaren l'a emporté parce qu'à partir de Miami elle a bénéficié d'une voiture polyvalente, compétitive sur à peu près tous les circuits, et a fait preuve d'une fiabilité exemplaire (zéro panne en course). Par ailleurs, ce triomphe est celui d'une équipe cliente. Avec McLaren, Mercedes remporte son 11e championnat des constructeurs en tant que motoriste, et dépasse ainsi Ford-Cosworth au palmarès. C'est la preuve qu'il est encore possible de gagner en F1 sans être un team d'usine. Andrea Stella salue ainsi l'excellence de la collaboration avec Mercedes HPP, tandis que Toto Wolff admet qu'il préfère être battu par une machine propulsée par l'Étoile que par Red Bull ou Ferrari...\\n\\nFerrari: une attente sans fin...\\nFerrari devra encore patienter pour remporter ce championnat des constructeurs qui lui échappe depuis 2008. Seize ans !... Les malheurs de Charles Leclerc, vendredi et samedi, avaient certes déjà réduit ses espoirs à peau de chagrin. Mais la Scuderia a pu y croire un petit moment, au départ, lorsque le Monégasque a gagné onze places en un tour, et que Max Verstappen a percuté Oscar Piastri. Toutefois, c'est bien McLaren qui était la plus forte ce week-end, et aussi cette saison, car la Scuderia paie au final son passage à vide estival, conséquence d'évolutions mal comprises. «\\xa0Nous avons attaqué jusqu'au dernier virage du dernier tour, constate Frédéric Vasseur. Je suis très content de notre travail, car il était inattendu de terminer 2e et 3e, étant donné la position de Leclerc sur la grille. Charles a fait une belle course. Avant le départ, j'avais parié avec lui sur sa position à la fin du premier tour et nous l'avons tous les deux perdu car il était bien loin devant ce que nous avions prédit\\xa0!\\xa0» Pour sa dernière prestation en rouge, Carlos Sainz décroche une belle deuxième place, après avoir fait son maximum pour menacer Lando Norris. «\\xa0J'ai effectué un très bon premier relais sans me faire décrocher, dit-il, mais comme souvent cette année, dès que la McLaren a chaussé les pneus durs, elle fut un peu plus rapide.\\xa0» Charles Leclerc est lui aigre-doux malgré sa superbe remontée: «\\xa0La déception l'emporte. Nous avions une opportunité à saisir, et cela fait mal de l'avoir loupée. Cela étant, nous payons notre manque de performance lors de la première moitié de la saison. Mais notre point fort cette année fut l'exécution. C'est ce qui explique que nous avons pu nous battre contre McLaren jusqu'à cette dernière manche. De cela, je suis très fier.\\xa0» Voilà pourquoi Frédéric Vasseur se veut optimiste malgré l'échec: «\\xa0La dynamique est bonne. Un excellent travail a été réalisé depuis six mois à l'usine. On fait moins d'erreurs que jadis, on est plus constants dans la performance. Et puis, l'an prochain, Hamilton arrive. Il va nous apporter son expérience, son savoir-faire et sa vitesse de pointe. Je sais ce qu'il va apporter à l'écurie.\\xa0» Le petit plus pour remettre enfin le Cheval Cabré au sommet de la F1\\xa0?\\n\\nLa saison ne pouvait se clore sans une énième controverse impliquant Max Verstappen. Si le Néerlandais présente rapidement ses excuses à Oscar Piastri pour l'avoir harponné au départ, il ne digère pas la pénalité qui en a résulté pour lui. Sous le coup de l'émotion, il a qualifié par radio les commissaires de course d'\\xa0«\\xa0idiots stupides\\xa0». Après l'arrivée, pas question pour lui de rétropédaler: «\\xa0Bien sûr, c'est de ma faute,\\xa0mais je m'attendais à être puni bien plus sévèrement\\xa0! ironise-t-il. De 20, 30 secondes, ou d'un stop-and-go ! Il y a matière à discussion. Je ne comprends rien à leur logique mais, peu importe. Je ne vais pas me mettre en colère pour ça.\\xa0» Christian Horner minimise l'incident: «\\xa0Dans n'importe quel sport, il y aura toujours de la frustration dans le feu de l'action. Si on pouvait entendre les footballers quand ils reçoivent un carton, nul doute qu'on entendrait aussi des mots d'oiseaux\\xa0!\\xa0» Quant à Helmut Marko, il accuse Piastri de ne pas avoir laissé assez d'espace et ne comprend pas pourquoi Verstappen a été puni. Red Bull a peut-être perdu le championnat des constructeurs, mais au concours de la mauvaise foi, ses représentants ne craignent personne\\xa0!\\n\\nLewis Hamilton achève avec brio son idylle avec Mercedes. Parti seizième, le septuple champion du monde a conclu une splendide remontée à la quatrième place, en doublant de fort belle manière son équipier George Russell dans les derniers kilomètres. Il gratifie la foule de quelques «\\xa0donuts\\xa0», avant de délivrer à la radio un émouvant message d'adieux: «\\xa0Nous avons accompli des choses incroyables. Merci pour votre courage, votre détermination, votre passion et votre soutien. Cela a commencé comme un acte de foi et finit dans les livres d'histoire (...) Je vous suis reconnaissant du fond du cœur et vous souhaite le meilleur.\\xa0Je\\xa0vous\\xa0aime\\xa0!\\xa0» Qu'ajouter à cela\\xa0? Hamilton revient tout de même sur sa dernière prestation sur une Flèche d'Argent: «\\xa0C'était une course vraiment très délicate, vu d'où je partais. Je n'ai pas pris un bon départ et le premier relais a été vraiment très difficile. Mais je n'ai pas abandonné, j'ai changé de pneus et la voiture a pris vie. J'avais un énorme retard sur George à combler, alors j'ai tout donné, pour finir sur une bonne note et donner le meilleur de moi-même à l'équipe.\\xa0» Il se tourne dorénavant vers son avenir avec Ferrari: «\\xa0Je suis évidemment très ému ce soir. Mais la nouvelle vie commencera en 2025, puisque je ne ferai pas de test ce mois-ci. Donc je suis un pilote Mercedes jusqu'au 31 décembre, avec plein de moments émouvants encore à venir. Et en janvier place au rouge\\xa0!\\xa0» Hamilton doit en effet entamer une tournée d'adieu auprès de tous les partenaires de Mercedes: il s'envole aussitôt pour la Malaise pour saluer Petronas... Dur, dur d'être un champion\\xa0!\\n\\nSources:\\n- Auto Hebdo n°2490, 3 décembre 2024\\n- Nextgen-auto.com.com\\nTony\\n\\n\")"
      ]
     },
     "execution_count": 6,
     "metadata": {},
     "output_type": "execute_result"
    }
   ],
   "source": [
    "docs[0]"
   ]
  },
  {
   "cell_type": "code",
   "execution_count": 7,
   "metadata": {},
   "outputs": [
    {
     "name": "stdout",
     "output_type": "stream",
     "text": [
      "\n",
      "\n",
      "Le clash Russell vs. Verstappen\n",
      "La guerre est déclarée entre George Russell et Max Verstappen. Huit jours plus tôt, au Qatar, le Néerlandais a été dépossédé de la pole position au profit du Britannique, sous prétexte qu'il aurait gêné celui-ci en roulant trop lentement à la fin des qualifications. Furieux, Verstappen a eu une vive altercation avec son adversaire à la sortie du collège des commissaires, puis a affirmé face caméra n'avoir « plus aucun respect » pour celui-ci. Là-bas, Russell a refusé de répondre, se contentant de mettre cette altercation au compte du caractère sanguin du pilote Red Bull. Mais à Abou Dhabi, il lâche les chiens. Dévoilant sa propre version des faits, il accuse Verstappen de l'avoir menacé verbalement. « Avant même que je dise un mot aux commissaires, il jurait contre ceux-ci, narre-t-il. Il était en colère avant même que je ne parle, mais au final, les faits sont les faits. Il allait trop lentement. Puis, quand je suis sorti du bureau des commissaires, i\n"
     ]
    }
   ],
   "source": [
    "print(docs[0].page_content[:1000])"
   ]
  },
  {
   "cell_type": "markdown",
   "metadata": {},
   "source": [
    "Armazenando os documentos numa vector store"
   ]
  },
  {
   "cell_type": "code",
   "execution_count": 8,
   "metadata": {},
   "outputs": [],
   "source": [
    "# Index chunks\n",
    "document_ids = vector_store.add_documents(documents=all_splits)"
   ]
  },
  {
   "cell_type": "code",
   "execution_count": 9,
   "metadata": {},
   "outputs": [
    {
     "data": {
      "text/plain": [
       "['d4052e82-d8ac-4a17-9206-b8bd5c44d84f',\n",
       " 'fba685ff-abd4-4e62-a1a9-e9bdddb7714e',\n",
       " '4f6ec951-762e-4a5d-9bdc-caa63ec04380',\n",
       " '5d32b682-958b-4390-89cc-9e1bcc797cb8',\n",
       " '99bd0276-6509-4cc9-b448-2b67cba32443',\n",
       " '9ac22bd6-7774-4b31-a7ac-2eda19cda3ac',\n",
       " '2bc9a4fa-e06b-4576-b359-fd16de6ceba3',\n",
       " '1a3b61c0-6518-4d03-9f7d-25a9a2e511ed',\n",
       " '39cc0d42-22eb-4c37-bdee-6577b4b75c0a',\n",
       " '357f3204-c70d-4fc3-bac2-19a4179f1794']"
      ]
     },
     "execution_count": 9,
     "metadata": {},
     "output_type": "execute_result"
    }
   ],
   "source": [
    "document_ids[:10]"
   ]
  },
  {
   "cell_type": "markdown",
   "metadata": {},
   "source": [
    "Definir api key para o langchain pra rastreabilizar o chat abaixo"
   ]
  },
  {
   "cell_type": "code",
   "execution_count": 10,
   "metadata": {},
   "outputs": [
    {
     "name": "stdout",
     "output_type": "stream",
     "text": [
      "True\n",
      "123456\n"
     ]
    }
   ],
   "source": [
    "import os\n",
    "\n",
    "print(os.environ.get(\"LANGCHAIN_TRACING_V2\"))\n",
    "print(os.environ.get(\"LANGCHAIN_API_KEY\"))"
   ]
  },
  {
   "cell_type": "markdown",
   "metadata": {},
   "source": [
    "Criando o chat para a interação com o documento (RAG)"
   ]
  },
  {
   "cell_type": "code",
   "execution_count": 11,
   "metadata": {},
   "outputs": [
    {
     "name": "stdout",
     "output_type": "stream",
     "text": [
      "You are an assistant for question-answering tasks. Use the following pieces of retrieved context to answer the question. If you don't know the answer, just say that you don't know. Use three sentences maximum and keep the answer concise.\n",
      "Question: (question goes here) \n",
      "Context: (context goes here) \n",
      "Answer:\n"
     ]
    }
   ],
   "source": [
    "from langchain import hub\n",
    "\n",
    "\n",
    "prompt = hub.pull(\"rlm/rag-prompt\")\n",
    "\n",
    "example_messages = prompt.invoke(\n",
    "    {\"context\": \"(context goes here)\", \"question\": \"(question goes here)\"}\n",
    ").to_messages()\n",
    "\n",
    "assert len(example_messages) == 1\n",
    "print(example_messages[0].content)"
   ]
  },
  {
   "cell_type": "markdown",
   "metadata": {},
   "source": [
    "Classe State controla o formato de entrada da mensagem para o chat"
   ]
  },
  {
   "cell_type": "code",
   "execution_count": 12,
   "metadata": {},
   "outputs": [],
   "source": [
    "from langchain_core.documents import Document\n",
    "from typing_extensions import List, TypedDict\n",
    "\n",
    "\n",
    "class State(TypedDict):\n",
    "    question: str\n",
    "    context: List[Document]\n",
    "    answer: str\n"
   ]
  },
  {
   "cell_type": "markdown",
   "metadata": {},
   "source": [
    "Essas duas funções fazem:  \n",
    "    Retrieve - Recupera a vector store com o contexto da pergunta enviada  \n",
    "    Generate - Faz a interação do chat"
   ]
  },
  {
   "cell_type": "code",
   "execution_count": 13,
   "metadata": {},
   "outputs": [],
   "source": [
    "       \n",
    "def retrieve(state: State):\n",
    "    retrieved_docs = vector_store.similarity_search(state[\"question\"])\n",
    "    return {\"context\": retrieved_docs}\n",
    "\n",
    "\n",
    "def generate(state: State):\n",
    "    docs_content = \"\\n\\n\".join(doc.page_content for doc in state[\"context\"])\n",
    "    messages = prompt.invoke({\"question\": state[\"question\"], \"context\": docs_content})\n",
    "    response = llm.invoke(messages)\n",
    "    return {\"answer\": response.content}"
   ]
  },
  {
   "cell_type": "markdown",
   "metadata": {},
   "source": [
    "Status de recuperação da mensagem numa RAG pela variável graph"
   ]
  },
  {
   "cell_type": "code",
   "execution_count": 14,
   "metadata": {},
   "outputs": [
    {
     "data": {
      "image/png": "[encoded data removed]",
      "text/plain": [
       "<IPython.core.display.Image object>"
      ]
     },
     "metadata": {},
     "output_type": "display_data"
    }
   ],
   "source": [
    "from langgraph.graph import START, StateGraph\n",
    "from IPython.display import Image, display\n",
    "\n",
    "\n",
    "graph_builder = StateGraph(State).add_sequence([retrieve, generate])\n",
    "graph_builder.add_edge(START, \"retrieve\")\n",
    "graph = graph_builder.compile()\n",
    "display(Image(graph.get_graph().draw_mermaid_png()))"
   ]
  },
  {
   "cell_type": "markdown",
   "metadata": {},
   "source": [
    "### Resposta utilizando Modelo GPT-4o-mini\n",
    "Por conta da data de corte de treinamento do modelo, é esperado que ele não saiba quem venceu o GP de Abu Dhabi de 2024 que aconteceu em Dezembro de 2024"
   ]
  },
  {
   "cell_type": "code",
   "execution_count": 21,
   "metadata": {},
   "outputs": [
    {
     "name": "stdout",
     "output_type": "stream",
     "text": [
      "Answer:  I'm sorry, but I don't have information on events that occurred after October 2023, including the 2024 Abu Dhabi Grand Prix. You may want to check the latest sports news or official Formula 1 sources for the most up-to-date results.\n"
     ]
    }
   ],
   "source": [
    "result = llm.invoke(\"Who won 2024 Abu Dhabi Grand Prix? Answer it in English\")\n",
    "print(\"Answer: \", result.content)"
   ]
  },
  {
   "cell_type": "markdown",
   "metadata": {},
   "source": [
    "### Resposta utilizando RAG"
   ]
  },
  {
   "cell_type": "code",
   "execution_count": 20,
   "metadata": {},
   "outputs": [
    {
     "name": "stdout",
     "output_type": "stream",
     "text": [
      "Context: page_content='Le Grand Prix\n",
      "L'atmosphère est très douce (27°C) en ce début de soirée sur Yas Marina, mais la température de la piste est nettement plus basse que la veille (32°C au lieu de 42°C). Les pneumatiques devraient donc moins souffrir. Tous les pilotes partent en gommes médiums (C4), sauf Hamilton qui s'élance avec le composé dur (C3). Cette finale du championnat 2024 est un beau succès avec des tribunes remplies, notamment par les fans de Max Verstappen qui tiennent à fêter le quatrième sacre de leur idole.\n",
      "\n",
      "Départ: Leclerc prend un bon envol tandis que Verstappen, très bien parti, double aussitôt Sainz, prend l'aspiration de Piastri, et se décale brusquement à l'intérieur au freinage pour surprendre ce dernier. Il est bien trop optimiste et touche la McLaren. Les deux bolides pirouettent, mais si Verstappen exécute un 360° et se relance au cœur du peloton, Piastri repart dernier après un tête-à-queue. Tsunoda peine à démarrer suite à un problème d'embrayage.' metadata={'source': 'https://www.statsf1.com/en/2024/abou-dhabi.aspx'}\n",
      "\n",
      "\n",
      "Answer: Lando Norris won the 2024 Abu Dhabi Grand Prix. He was followed by Carlos Sainz in second place and Charles Leclerc in third. This victory also secured the constructors' title for McLaren.\n"
     ]
    }
   ],
   "source": [
    "result = graph.invoke({\"question\": \"Who won 2024 Abu Dhabi Grand Prix? Answer it in English\"})\n",
    "\n",
    "print(f'Context: {result[\"context\"][0]}\\n\\n')\n",
    "print(f'Answer: {result[\"answer\"]}')"
   ]
  },
  {
   "cell_type": "code",
   "execution_count": null,
   "metadata": {},
   "outputs": [],
   "source": []
  }
 ],
 "metadata": {
  "kernelspec": {
   "display_name": "Python 3 (ipykernel)",
   "language": "python",
   "name": "python3"
  },
  "language_info": {
   "codemirror_mode": {
    "name": "ipython",
    "version": 3
   },
   "file_extension": ".py",
   "mimetype": "text/x-python",
   "name": "python",
   "nbconvert_exporter": "python",
   "pygments_lexer": "ipython3",
   "version": "3.11.4"
  }
 },
 "nbformat": 4,
 "nbformat_minor": 2
}
