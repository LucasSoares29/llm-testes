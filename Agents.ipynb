{
 "cells": [
  {
   "cell_type": "markdown",
   "id": "b928e88f",
   "metadata": {},
   "source": [
    "## Criando as tools como Agentes"
   ]
  },
  {
   "cell_type": "code",
   "execution_count": 1,
   "id": "c0b41151",
   "metadata": {},
   "outputs": [
    {
     "name": "stderr",
     "output_type": "stream",
     "text": [
      "USER_AGENT environment variable not set, consider setting it to identify your requests.\n"
     ]
    }
   ],
   "source": [
    "from langchain_community.document_loaders import WebBaseLoader\n",
    "import bs4\n",
    "\n",
    "bs4_strainer = bs4.SoupStrainer(class_=(\"biotop\"))\n",
    "\n",
    "loader = WebBaseLoader(\n",
    "    web_paths=(\"https://www.statsf1.com/en/2024/abou-dhabi.aspx\",),\n",
    "    bs_kwargs={\"parse_only\": bs4_strainer},\n",
    ")\n",
    "docs = loader.load()"
   ]
  },
  {
   "cell_type": "code",
   "execution_count": 2,
   "id": "25279850",
   "metadata": {},
   "outputs": [],
   "source": [
    "# Quebrando os documentos em chunks\n",
    "from langchain_text_splitters import RecursiveCharacterTextSplitter\n",
    "text_splitter = RecursiveCharacterTextSplitter(chunk_size=1000, chunk_overlap=200)\n",
    "documents = text_splitter.split_documents(docs)"
   ]
  },
  {
   "cell_type": "code",
   "execution_count": 3,
   "id": "03e0a746",
   "metadata": {},
   "outputs": [
    {
     "name": "stdout",
     "output_type": "stream",
     "text": [
      "Website post splitted into 71 pieces of documents\n"
     ]
    }
   ],
   "source": [
    "print(f\"Website post splitted into {len(documents)} pieces of documents\")"
   ]
  },
  {
   "cell_type": "code",
   "execution_count": 4,
   "id": "0ee2edf6",
   "metadata": {},
   "outputs": [
    {
     "data": {
      "text/plain": [
       "Document(metadata={'source': 'https://www.statsf1.com/en/2024/abou-dhabi.aspx'}, page_content=\"La guerre est déclarée entre George Russell et Max Verstappen. Huit jours plus tôt, au Qatar, le Néerlandais a été dépossédé de la pole position au profit du Britannique, sous prétexte qu'il aurait gêné celui-ci en roulant trop lentement à la fin des qualifications. Furieux, Verstappen a eu une vive altercation avec son adversaire à la sortie du collège des commissaires, puis a affirmé face caméra n'avoir «\\xa0plus aucun respect\\xa0» pour celui-ci. Là-bas, Russell a refusé de répondre, se contentant de mettre cette altercation au compte du caractère sanguin du pilote Red Bull. Mais à Abou Dhabi, il lâche les chiens. Dévoilant sa propre version des faits, il accuse Verstappen de l'avoir menacé verbalement. «\\xa0Avant même que je dise un mot aux commissaires, il jurait contre ceux-ci, narre-t-il. Il était en colère avant même que je ne parle, mais au final, les faits sont les faits. Il allait trop lentement. Puis, quand je suis sorti du bureau des commissaires, il m'a dit: ''Je ne sais pas\")"
      ]
     },
     "execution_count": 4,
     "metadata": {},
     "output_type": "execute_result"
    }
   ],
   "source": [
    "documents[1]"
   ]
  },
  {
   "cell_type": "markdown",
   "id": "fb1d8e68",
   "metadata": {},
   "source": [
    "### Importando o embeeding"
   ]
  },
  {
   "cell_type": "code",
   "execution_count": 5,
   "id": "0ec23f1a",
   "metadata": {},
   "outputs": [],
   "source": [
    "import os\n",
    "\n",
    "if not os.environ.get(\"OPENAI_API_KEY\"):\n",
    "    os.environ[\"OPENAI_API_KEY\"] = os.environ.get('OPEN_AI_KEY')\n",
    "    \n",
    "from langchain_openai import OpenAIEmbeddings\n",
    "\n",
    "embeddings = OpenAIEmbeddings(model=\"text-embedding-3-large\")"
   ]
  },
  {
   "cell_type": "markdown",
   "id": "a6ef711c",
   "metadata": {},
   "source": [
    "O retriever tool é usado para recuperar informação relevante do vector database para passar pro LLM como contexto."
   ]
  },
  {
   "cell_type": "code",
   "execution_count": 6,
   "id": "da0a6bf7",
   "metadata": {},
   "outputs": [
    {
     "name": "stdout",
     "output_type": "stream",
     "text": [
      "Requirement already satisfied: faiss-cpu in c:\\users\\lucas\\anaconda3\\envs\\3point11\\lib\\site-packages (1.9.0.post1)\n",
      "Requirement already satisfied: numpy<3.0,>=1.25.0 in c:\\users\\lucas\\anaconda3\\envs\\3point11\\lib\\site-packages (from faiss-cpu) (1.25.2)\n",
      "Requirement already satisfied: packaging in c:\\users\\lucas\\anaconda3\\envs\\3point11\\lib\\site-packages (from faiss-cpu) (24.2)\n"
     ]
    }
   ],
   "source": [
    "!pip install faiss-cpu"
   ]
  },
  {
   "cell_type": "code",
   "execution_count": 7,
   "id": "9ac23c1c",
   "metadata": {},
   "outputs": [],
   "source": [
    "from langchain_community.vectorstores import FAISS\n",
    "from langchain.tools.retriever import create_retriever_tool\n",
    "\n",
    "vector = FAISS.from_documents(documents, embeddings)\n",
    "retriever = vector.as_retriever()\n",
    "\n",
    "# Criando o retriever customizado\n",
    "retriever_tool = create_retriever_tool (retriever, \"F1_AbuDhabi_search\", \"\"\"Search for information \n",
    "about 2024 Abu Dhabi Grand Prix. For any questions about 2024 Abu Dhabi Grand Prix, you must use this tool\"\"\")"
   ]
  },
  {
   "cell_type": "markdown",
   "id": "cc35f446",
   "metadata": {},
   "source": [
    "Criando um segundo retriever:"
   ]
  },
  {
   "cell_type": "code",
   "execution_count": 11,
   "id": "eed8bd2a",
   "metadata": {},
   "outputs": [
    {
     "name": "stdout",
     "output_type": "stream",
     "text": [
      "Website post splitted into 9 pieces of documents\n",
      "page_content='Circuit Overview\n",
      "\n",
      "\n",
      "\n",
      "\n",
      "The Yas Marina Circuit (Arabic: حلبة مرسى ياس) is believed to be the most expensive circuit in history, having been constructed for Formula One on a man-made island at a reputed cost of $1 billion. Needless to say, it lacks nothing in terms of facilities, yet in its original form failed to capture the imagination of the drivers and fans, with overtaking in particular proving particularly difficult.\n",
      "A reconfiguration in 2021 sought to improve the situation by eliminating some of the more stop-start sections and providing a more flowing layout. While designers were limited by the available space, the revamp has included the insertion of a sweeping banked corner at its southern end.\n",
      "Aside from Formula One, the circuit has also hosted the short-lived FIA GT1 World Series, rounds of GP2 Asia and the full GP2 Series and overseas rounds of the V8 Supercar Championships, while 2012 saw the creation of a 12 Hour race for GT and sports cars.' metadata={'source': 'https://www.racingcircuits.info/middle-east/united-arab-emirates/yas-marina.html'}\n"
     ]
    }
   ],
   "source": [
    "bs4_strainer = bs4.SoupStrainer(class_=(\"card white rounded-0 mt-4\"))\n",
    "\n",
    "loader = WebBaseLoader(\n",
    "    web_paths=(\"https://www.racingcircuits.info/middle-east/united-arab-emirates/yas-marina.html\",),\n",
    "    bs_kwargs={\"parse_only\": bs4_strainer},\n",
    ")\n",
    "docs = loader.load()\n",
    "\n",
    "text_splitter = RecursiveCharacterTextSplitter(chunk_size=1000, chunk_overlap=200)\n",
    "documents = text_splitter.split_documents(docs)\n",
    "\n",
    "print(f\"Website post splitted into {len(documents)} pieces of documents\")\n",
    "\n",
    "print(documents[0])\n",
    "\n",
    "vector = FAISS.from_documents(documents, embeddings)\n",
    "retriever = vector.as_retriever()\n",
    "\n",
    "retriever_tool_2 = create_retriever_tool (retriever, \"F1_AbuDhabi_circuit\", \"\"\"Search for information \n",
    "about Yas Marina Circuit. For any questions about Yas Marina circuit, you must use this tool\"\"\")"
   ]
  },
  {
   "cell_type": "markdown",
   "id": "e97ec42b",
   "metadata": {},
   "source": [
    "Lista de ferramentas do agente"
   ]
  },
  {
   "cell_type": "code",
   "execution_count": 12,
   "id": "0950299a",
   "metadata": {},
   "outputs": [],
   "source": [
    "tools = [retriever_tool, retriever_tool_2] "
   ]
  },
  {
   "cell_type": "markdown",
   "id": "b8b1853d",
   "metadata": {},
   "source": [
    "## Criando um agente"
   ]
  },
  {
   "cell_type": "code",
   "execution_count": 13,
   "id": "48ea0fbd",
   "metadata": {},
   "outputs": [
    {
     "name": "stdout",
     "output_type": "stream",
     "text": [
      "Collecting langchainhub\n",
      "  Obtaining dependency information for langchainhub from https://files.pythonhosted.org/packages/35/63/40328157ddee807991f2f1992c2ad88f479b2472dc9e40d08ccf10700735/langchainhub-0.1.21-py3-none-any.whl.metadata\n",
      "  Downloading langchainhub-0.1.21-py3-none-any.whl.metadata (659 bytes)\n",
      "Requirement already satisfied: packaging<25,>=23.2 in c:\\users\\lucas\\anaconda3\\envs\\3point11\\lib\\site-packages (from langchainhub) (24.2)\n",
      "Requirement already satisfied: requests<3,>=2 in c:\\users\\lucas\\anaconda3\\envs\\3point11\\lib\\site-packages (from langchainhub) (2.32.3)\n",
      "Collecting types-requests<3.0.0.0,>=2.31.0.2 (from langchainhub)\n",
      "  Obtaining dependency information for types-requests<3.0.0.0,>=2.31.0.2 from https://files.pythonhosted.org/packages/d7/01/485b3026ff90e5190b5e24f1711522e06c79f4a56c8f4b95848ac072e20f/types_requests-2.32.0.20241016-py3-none-any.whl.metadata\n",
      "  Downloading types_requests-2.32.0.20241016-py3-none-any.whl.metadata (1.9 kB)\n",
      "Requirement already satisfied: charset-normalizer<4,>=2 in c:\\users\\lucas\\anaconda3\\envs\\3point11\\lib\\site-packages (from requests<3,>=2->langchainhub) (2.0.4)\n",
      "Requirement already satisfied: idna<4,>=2.5 in c:\\users\\lucas\\anaconda3\\envs\\3point11\\lib\\site-packages (from requests<3,>=2->langchainhub) (3.3)\n",
      "Requirement already satisfied: urllib3<3,>=1.21.1 in c:\\users\\lucas\\anaconda3\\envs\\3point11\\lib\\site-packages (from requests<3,>=2->langchainhub) (1.26.8)\n",
      "Requirement already satisfied: certifi>=2017.4.17 in c:\\users\\lucas\\anaconda3\\envs\\3point11\\lib\\site-packages (from requests<3,>=2->langchainhub) (2023.7.22)\n",
      "Collecting urllib3<3,>=1.21.1 (from requests<3,>=2->langchainhub)\n",
      "  Obtaining dependency information for urllib3<3,>=1.21.1 from https://files.pythonhosted.org/packages/c8/19/4ec628951a74043532ca2cf5d97b7b14863931476d117c471e8e2b1eb39f/urllib3-2.3.0-py3-none-any.whl.metadata\n",
      "  Downloading urllib3-2.3.0-py3-none-any.whl.metadata (6.5 kB)\n",
      "Downloading langchainhub-0.1.21-py3-none-any.whl (5.2 kB)\n",
      "Downloading types_requests-2.32.0.20241016-py3-none-any.whl (15 kB)\n",
      "Downloading urllib3-2.3.0-py3-none-any.whl (128 kB)\n",
      "   ---------------------------------------- 0.0/128.4 kB ? eta -:--:--\n",
      "   ---------------------------------------- 128.4/128.4 kB 3.7 MB/s eta 0:00:00\n",
      "Installing collected packages: urllib3, types-requests, langchainhub\n",
      "  Attempting uninstall: urllib3\n",
      "    Found existing installation: urllib3 1.26.8\n",
      "    Uninstalling urllib3-1.26.8:\n",
      "      Successfully uninstalled urllib3-1.26.8\n",
      "Successfully installed langchainhub-0.1.21 types-requests-2.32.0.20241016 urllib3-2.3.0\n"
     ]
    }
   ],
   "source": [
    "!pip install langchainhub"
   ]
  },
  {
   "cell_type": "code",
   "execution_count": 15,
   "id": "bc5d5c74",
   "metadata": {},
   "outputs": [],
   "source": [
    "from langchain import hub\n",
    "prompt = hub.pull(\"hwchase17/openai-functions-agent\") # prompt para que o llm agirá como agente"
   ]
  },
  {
   "cell_type": "code",
   "execution_count": 16,
   "id": "bd7bc479",
   "metadata": {},
   "outputs": [],
   "source": [
    "import os \n",
    "from langchain_openai import ChatOpenAI\n",
    "\n",
    "if not os.environ.get(\"OPENAI_API_KEY\"):\n",
    "    os.environ[\"OPENAI_API_KEY\"] = os.environ.get('OPEN_AI_KEY')\n",
    "\n",
    "llm = ChatOpenAI(model=\"gpt-4o-mini\") # modelo"
   ]
  },
  {
   "cell_type": "code",
   "execution_count": 18,
   "id": "dd048404",
   "metadata": {},
   "outputs": [],
   "source": [
    "from langchain.agents import create_openai_functions_agent\n",
    "from langchain.agents import AgentExecutor\n",
    "\n",
    "agent = create_openai_functions_agent(llm,tools,prompt)\n",
    "agent_executor=AgentExecutor(agent=agent,tools=tools,verbose=True)"
   ]
  },
  {
   "cell_type": "code",
   "execution_count": 21,
   "id": "7e144fe6",
   "metadata": {},
   "outputs": [
    {
     "name": "stdout",
     "output_type": "stream",
     "text": [
      "\n",
      "\n",
      "\u001b[1m> Entering new AgentExecutor chain...\u001b[0m\n",
      "\u001b[32;1m\u001b[1;3m\n",
      "Invoking: `F1_AbuDhabi_search` with `{'query': '2024 Abu Dhabi Grand Prix weather conditions'}`\n",
      "\n",
      "\n",
      "\u001b[0m\u001b[36;1m\u001b[1;3mLe Grand Prix\n",
      "L'atmosphère est très douce (27°C) en ce début de soirée sur Yas Marina, mais la température de la piste est nettement plus basse que la veille (32°C au lieu de 42°C). Les pneumatiques devraient donc moins souffrir. Tous les pilotes partent en gommes médiums (C4), sauf Hamilton qui s'élance avec le composé dur (C3). Cette finale du championnat 2024 est un beau succès avec des tribunes remplies, notamment par les fans de Max Verstappen qui tiennent à fêter le quatrième sacre de leur idole.\n",
      "\n",
      "Départ: Leclerc prend un bon envol tandis que Verstappen, très bien parti, double aussitôt Sainz, prend l'aspiration de Piastri, et se décale brusquement à l'intérieur au freinage pour surprendre ce dernier. Il est bien trop optimiste et touche la McLaren. Les deux bolides pirouettent, mais si Verstappen exécute un 360° et se relance au cœur du peloton, Piastri repart dernier après un tête-à-queue. Tsunoda peine à démarrer suite à un problème d'embrayage.\n",
      "\n",
      "Cette 24e et dernière manche de la saison 2024 décidera du championnat du monde des constructeurs. McLaren-Mercedes aborde cette ultime étape avec un avantage assez confortable de 21 points sur Ferrari. Pour décrocher la timbale, la Scuderia doit donc glaner beaucoup de points, sans doute gagner la course, et prier pour que la scoumoune s'abatte sur sa rivale. Ce qui n'a rien d'évident puisque la MCL38 n'a pas subi une seule panne en course cette saison. Néanmoins, le clan McLaren demeure très prudent, surtout que le tracé de Yas Marina semble mieux convenir à la Ferrari. Les Papayes comptent toutefois sur les Red Bull et les Mercedes pour prendre des points à leurs adversaires, comme le souligne Oscar Piastri: « Le week-end sera très disputé entre les quatre premières équipes, et pas seulement entre nous et Ferrari, ce qui signifie que les autres concurrents peuvent potentiellement jouer un rôle dans la décision du championnat. » Lando Norris estime pour sa part que la meilleure\n",
      "\n",
      "Essais et qualifications\n",
      "Vendredi après-midi, C. Leclerc réalise le meilleur chrono (1'24''321''') des premiers essais libres devant Norris et Hamilton. Pour l'anecdote, A. Leclerc obtient le 18e temps, à près de deux secondes de son frère et équipier d'un jour. Plus tard, dans la soirée, les McLaren prennent le pouvoir lors de la seconde session libre: Norris est le plus rapide (1'23''517'') devant son équipier Piastri. Samedi après-midi, les McLaren confirment leur ascendant, Piastri signant le meilleur temps des EL3 (1'23''433''') devant Norris.\n",
      "\n",
      "13e: Magnussen s'empare de pneus durs (3.2s.). Zhou et Albon font de même. L'arrêt du Chinois dure 5 secondes de plus, car il est puni pour un faux départ.\n",
      "\n",
      "14e: Le soleil se couche sur Yas Marina. Russell menace toujours Gasly. Hülkenberg (2.5s.) et Alonso (4.3s.) chaussent les enveloppes blanches.\n",
      "\n",
      "15e: Norris a trois secondes et demie d'avance sur Sainz. Gasly s'empare des pneus blancs (2.6s.) et ressort derrière son équipier Doohan qui lui cède aussitôt le passage.\n",
      "\n",
      "16e: Norris devance Sainz (3.8s.), Russell (14.3s.), Leclerc (15.5s.), Verstappen (19.8s.), Hamilton (25.3s.), Lawson (29s.), Tsunoda (34s.), Gasly (35s.) et Doohan (37.5s.).\n",
      "\n",
      "17e: Gasly déborde Tsunoda au virage n°6. Le Japonais ouvre son DRS à la réaccélération et contourne le Rouennais par l'extérieur du virage n°9. Gasly ne quitte pas sa trajectoire et garde l'ascendant à la sortie de cette courbe.\u001b[0m\u001b[32;1m\u001b[1;3mWeather: Mild at 27°C, track temp 32°C, clear skies.\u001b[0m\n",
      "\n",
      "\u001b[1m> Finished chain.\u001b[0m\n"
     ]
    },
    {
     "data": {
      "text/plain": [
       "{'input': 'What was the weather conditions of 2024 Abu Dhabi Grand Prix? Answer it in 50 characters',\n",
       " 'output': 'Weather: Mild at 27°C, track temp 32°C, clear skies.'}"
      ]
     },
     "execution_count": 21,
     "metadata": {},
     "output_type": "execute_result"
    }
   ],
   "source": [
    "agent_executor.invoke({\"input\":\"What was the weather conditions of 2024 Abu Dhabi Grand Prix? Answer it in 50 characters\"})"
   ]
  },
  {
   "cell_type": "code",
   "execution_count": 23,
   "id": "713b28b5",
   "metadata": {},
   "outputs": [
    {
     "name": "stdout",
     "output_type": "stream",
     "text": [
      "\n",
      "\n",
      "\u001b[1m> Entering new AgentExecutor chain...\u001b[0m\n",
      "\u001b[32;1m\u001b[1;3m\n",
      "Invoking: `F1_AbuDhabi_search` with `{'query': '2024 Abu Dhabi Grand Prix tyre options'}`\n",
      "\n",
      "\n",
      "\u001b[0m\u001b[36;1m\u001b[1;3mLe Grand Prix\n",
      "L'atmosphère est très douce (27°C) en ce début de soirée sur Yas Marina, mais la température de la piste est nettement plus basse que la veille (32°C au lieu de 42°C). Les pneumatiques devraient donc moins souffrir. Tous les pilotes partent en gommes médiums (C4), sauf Hamilton qui s'élance avec le composé dur (C3). Cette finale du championnat 2024 est un beau succès avec des tribunes remplies, notamment par les fans de Max Verstappen qui tiennent à fêter le quatrième sacre de leur idole.\n",
      "\n",
      "Départ: Leclerc prend un bon envol tandis que Verstappen, très bien parti, double aussitôt Sainz, prend l'aspiration de Piastri, et se décale brusquement à l'intérieur au freinage pour surprendre ce dernier. Il est bien trop optimiste et touche la McLaren. Les deux bolides pirouettent, mais si Verstappen exécute un 360° et se relance au cœur du peloton, Piastri repart dernier après un tête-à-queue. Tsunoda peine à démarrer suite à un problème d'embrayage.\n",
      "\n",
      "13e: Magnussen s'empare de pneus durs (3.2s.). Zhou et Albon font de même. L'arrêt du Chinois dure 5 secondes de plus, car il est puni pour un faux départ.\n",
      "\n",
      "14e: Le soleil se couche sur Yas Marina. Russell menace toujours Gasly. Hülkenberg (2.5s.) et Alonso (4.3s.) chaussent les enveloppes blanches.\n",
      "\n",
      "15e: Norris a trois secondes et demie d'avance sur Sainz. Gasly s'empare des pneus blancs (2.6s.) et ressort derrière son équipier Doohan qui lui cède aussitôt le passage.\n",
      "\n",
      "16e: Norris devance Sainz (3.8s.), Russell (14.3s.), Leclerc (15.5s.), Verstappen (19.8s.), Hamilton (25.3s.), Lawson (29s.), Tsunoda (34s.), Gasly (35s.) et Doohan (37.5s.).\n",
      "\n",
      "17e: Gasly déborde Tsunoda au virage n°6. Le Japonais ouvre son DRS à la réaccélération et contourne le Rouennais par l'extérieur du virage n°9. Gasly ne quitte pas sa trajectoire et garde l'ascendant à la sortie de cette courbe.\n",
      "\n",
      "Cette 24e et dernière manche de la saison 2024 décidera du championnat du monde des constructeurs. McLaren-Mercedes aborde cette ultime étape avec un avantage assez confortable de 21 points sur Ferrari. Pour décrocher la timbale, la Scuderia doit donc glaner beaucoup de points, sans doute gagner la course, et prier pour que la scoumoune s'abatte sur sa rivale. Ce qui n'a rien d'évident puisque la MCL38 n'a pas subi une seule panne en course cette saison. Néanmoins, le clan McLaren demeure très prudent, surtout que le tracé de Yas Marina semble mieux convenir à la Ferrari. Les Papayes comptent toutefois sur les Red Bull et les Mercedes pour prendre des points à leurs adversaires, comme le souligne Oscar Piastri: « Le week-end sera très disputé entre les quatre premières équipes, et pas seulement entre nous et Ferrari, ce qui signifie que les autres concurrents peuvent potentiellement jouer un rôle dans la décision du championnat. » Lando Norris estime pour sa part que la meilleure\n",
      "\n",
      "26e: Sainz est chez Ferrari pour mettre les enveloppes blanches (2.2s.) et repart en troisième position.\n",
      "\n",
      "27e: Norris arrive aux stands et se saisit des pneus durs dans un arrêt-éclair (2s.). Il retrouve la piste une seconde et demie devant Sainz. Russell prend aussi les pneus blancs (2.4s.). Il repart derrière Gasly qu'il double peu après.\n",
      "\n",
      "28e: Norris devance Sainz (2.1s.), Verstappen (10s.), Hamilton (13s.), Leclerc (22s.), Russell (25s.), Gasly (26.3s.), Hülkenberg (27.6s.), Alonso (34s.), Piastri (35.4s.), Stroll (39.7s.) et Magnussen (41.2s.). Bon dernier, Colapinto renonce suite à un problème de moteur.\n",
      "\n",
      "30e: Verstappen arrive chez Red Bull, subit sa pénalité puis chausse les pneus durs. Il repart en 11e position. Magnussen et Lawson remplacent de nouveau leurs gommes.\u001b[0m\u001b[32;1m\u001b[1;3mFor the 2024 Abu Dhabi Grand Prix, the tyre options available were:\n",
      "\n",
      "- Medium (C4)\n",
      "- Hard (C3)\n",
      "\n",
      "Most drivers started the race on medium tyres, except for Lewis Hamilton, who opted for the hard compound.\u001b[0m\n",
      "\n",
      "\u001b[1m> Finished chain.\u001b[0m\n"
     ]
    },
    {
     "data": {
      "text/plain": [
       "{'input': 'What were the tyre options available for the 2024 Abu Dhabi Grand Prix?',\n",
       " 'output': 'For the 2024 Abu Dhabi Grand Prix, the tyre options available were:\\n\\n- Medium (C4)\\n- Hard (C3)\\n\\nMost drivers started the race on medium tyres, except for Lewis Hamilton, who opted for the hard compound.'}"
      ]
     },
     "execution_count": 23,
     "metadata": {},
     "output_type": "execute_result"
    }
   ],
   "source": [
    "agent_executor.invoke({\"input\":\"What were the tyre options available for the 2024 Abu Dhabi Grand Prix?\"})"
   ]
  },
  {
   "cell_type": "code",
   "execution_count": 24,
   "id": "52e79eaa",
   "metadata": {},
   "outputs": [
    {
     "name": "stdout",
     "output_type": "stream",
     "text": [
      "\n",
      "\n",
      "\u001b[1m> Entering new AgentExecutor chain...\u001b[0m\n",
      "\u001b[32;1m\u001b[1;3m\n",
      "Invoking: `F1_AbuDhabi_search` with `{'query': 'Verstappen punishment 2024 Abu Dhabi Grand Prix'}`\n",
      "\n",
      "\n",
      "\u001b[0m\u001b[36;1m\u001b[1;3mLa saison ne pouvait se clore sans une énième controverse impliquant Max Verstappen. Si le Néerlandais présente rapidement ses excuses à Oscar Piastri pour l'avoir harponné au départ, il ne digère pas la pénalité qui en a résulté pour lui. Sous le coup de l'émotion, il a qualifié par radio les commissaires de course d' « idiots stupides ». Après l'arrivée, pas question pour lui de rétropédaler: « Bien sûr, c'est de ma faute, mais je m'attendais à être puni bien plus sévèrement ! ironise-t-il. De 20, 30 secondes, ou d'un stop-and-go ! Il y a matière à discussion. Je ne comprends rien à leur logique mais, peu importe. Je ne vais pas me mettre en colère pour ça. » Christian Horner minimise l'incident: « Dans n'importe quel sport, il y aura toujours de la frustration dans le feu de l'action. Si on pouvait entendre les footballers quand ils reçoivent un carton, nul doute qu'on entendrait aussi des mots d'oiseaux ! » Quant à Helmut Marko, il accuse Piastri de ne pas avoir laissé assez\n",
      "\n",
      "Le Grand Prix\n",
      "L'atmosphère est très douce (27°C) en ce début de soirée sur Yas Marina, mais la température de la piste est nettement plus basse que la veille (32°C au lieu de 42°C). Les pneumatiques devraient donc moins souffrir. Tous les pilotes partent en gommes médiums (C4), sauf Hamilton qui s'élance avec le composé dur (C3). Cette finale du championnat 2024 est un beau succès avec des tribunes remplies, notamment par les fans de Max Verstappen qui tiennent à fêter le quatrième sacre de leur idole.\n",
      "\n",
      "Départ: Leclerc prend un bon envol tandis que Verstappen, très bien parti, double aussitôt Sainz, prend l'aspiration de Piastri, et se décale brusquement à l'intérieur au freinage pour surprendre ce dernier. Il est bien trop optimiste et touche la McLaren. Les deux bolides pirouettent, mais si Verstappen exécute un 360° et se relance au cœur du peloton, Piastri repart dernier après un tête-à-queue. Tsunoda peine à démarrer suite à un problème d'embrayage.\n",
      "\n",
      "La guerre est déclarée entre George Russell et Max Verstappen. Huit jours plus tôt, au Qatar, le Néerlandais a été dépossédé de la pole position au profit du Britannique, sous prétexte qu'il aurait gêné celui-ci en roulant trop lentement à la fin des qualifications. Furieux, Verstappen a eu une vive altercation avec son adversaire à la sortie du collège des commissaires, puis a affirmé face caméra n'avoir « plus aucun respect » pour celui-ci. Là-bas, Russell a refusé de répondre, se contentant de mettre cette altercation au compte du caractère sanguin du pilote Red Bull. Mais à Abou Dhabi, il lâche les chiens. Dévoilant sa propre version des faits, il accuse Verstappen de l'avoir menacé verbalement. « Avant même que je dise un mot aux commissaires, il jurait contre ceux-ci, narre-t-il. Il était en colère avant même que je ne parle, mais au final, les faits sont les faits. Il allait trop lentement. Puis, quand je suis sorti du bureau des commissaires, il m'a dit: ''Je ne sais pas\n",
      "\n",
      "4e: Norris a repoussé Sainz à plus de deux secondes et demie. Colapinto passe aux stands pour changer ses pneus.\n",
      "\n",
      "5e: Piastri est accueilli par McLaren pour mettre des pneus durs (4.4s.). Il repart en 18e position. Verstappen reçoit 10 secondes de pénalité pour avoir percuté l'Australien au départ.\n",
      "\n",
      "6e: Verstappen dépasse Stroll. Bottas écope lui aussi de 10 secondes de punition pour avoir éliminé Pérez. Le Finlandais change ses pneus et exécute la pénalité dans la foulée.\n",
      "\n",
      "7e: Leclerc déborde Magnussen dans la grande ligne droite et se retrouve septième.\n",
      "\n",
      "8e: Norris mène devant Sainz (3s.), Gasly (6s.), Russell (6.8s.), Hülkenberg (7.4s.), Alonso (8.8s.), Leclerc (10.2s.), Magnussen (11.5s.), Verstappen (12s.), Stroll (14s.), Lawson (15.6s.) et Hamilton (16.2s.).\n",
      "\n",
      "9e: Verstappen double Magnussen au virage n°9. Piastri reçoit lui aussi 10 secondes de pénalité pour avoir heurté Colapinto.\u001b[0m\u001b[32;1m\u001b[1;3mMax Verstappen was punished during the 2024 Abu Dhabi Grand Prix for colliding with Oscar Piastri at the start of the race. Verstappen made a bold move to overtake Piastri but miscalculated and ended up hitting the McLaren, causing both drivers to spin. As a result of this incident, Verstappen received a 10-second penalty. \n",
      "\n",
      "After the race, Verstappen expressed his frustration with the penalty, suggesting that he expected a harsher punishment, such as a longer time penalty or a stop-and-go penalty. He also criticized the race stewards, referring to them as \"stupid idiots\" in the heat of the moment. Despite acknowledging his fault in the incident, he remained puzzled by the logic behind the penalty given.\u001b[0m\n",
      "\n",
      "\u001b[1m> Finished chain.\u001b[0m\n"
     ]
    },
    {
     "data": {
      "text/plain": [
       "{'input': 'Why was Verstappen punished during 2024 Abu Dhabi Grand Prix Race?',\n",
       " 'output': 'Max Verstappen was punished during the 2024 Abu Dhabi Grand Prix for colliding with Oscar Piastri at the start of the race. Verstappen made a bold move to overtake Piastri but miscalculated and ended up hitting the McLaren, causing both drivers to spin. As a result of this incident, Verstappen received a 10-second penalty. \\n\\nAfter the race, Verstappen expressed his frustration with the penalty, suggesting that he expected a harsher punishment, such as a longer time penalty or a stop-and-go penalty. He also criticized the race stewards, referring to them as \"stupid idiots\" in the heat of the moment. Despite acknowledging his fault in the incident, he remained puzzled by the logic behind the penalty given.'}"
      ]
     },
     "execution_count": 24,
     "metadata": {},
     "output_type": "execute_result"
    }
   ],
   "source": [
    "agent_executor.invoke({\"input\":\"Why was Verstappen punished during 2024 Abu Dhabi Grand Prix Race?\"})"
   ]
  },
  {
   "cell_type": "code",
   "execution_count": 25,
   "id": "bf739668",
   "metadata": {},
   "outputs": [
    {
     "name": "stdout",
     "output_type": "stream",
     "text": [
      "\n",
      "\n",
      "\u001b[1m> Entering new AgentExecutor chain...\u001b[0m\n",
      "\u001b[32;1m\u001b[1;3m\n",
      "Invoking: `F1_AbuDhabi_circuit` with `{'query': 'first Yas Marina Grand Prix date'}`\n",
      "\n",
      "\n",
      "\u001b[0m\u001b[33;1m\u001b[1;3mCircuit Overview\n",
      "\n",
      "\n",
      "\n",
      "\n",
      "The Yas Marina Circuit (Arabic: حلبة مرسى ياس) is believed to be the most expensive circuit in history, having been constructed for Formula One on a man-made island at a reputed cost of $1 billion. Needless to say, it lacks nothing in terms of facilities, yet in its original form failed to capture the imagination of the drivers and fans, with overtaking in particular proving particularly difficult.\n",
      "A reconfiguration in 2021 sought to improve the situation by eliminating some of the more stop-start sections and providing a more flowing layout. While designers were limited by the available space, the revamp has included the insertion of a sweeping banked corner at its southern end.\n",
      "Aside from Formula One, the circuit has also hosted the short-lived FIA GT1 World Series, rounds of GP2 Asia and the full GP2 Series and overseas rounds of the V8 Supercar Championships, while 2012 saw the creation of a 12 Hour race for GT and sports cars.\n",
      "\n",
      "The project was born as Formula One began searching for new venues in states with chequebooks that could match Bernie Ecclestone's increasingly hefty financial demands. After the success of the Bahrain Cicuit, the authorities in Abu Dhabi were keen to raise their profile and identified land on the newly-constructed Yas Island for the circuit.\n",
      "After two years of intensive planning and construction involving 14,000 staff and 35 million construction man-hours, the new facility opened its doors to the world. Featuring a marina area it had something to rival Monte Carlo and, at its centre, was the futuristic Yas Viceroy Abu Dhabi Hotel which the circuit actually passes underneath. With the Formula One Grand Prix being a dusk race, the hotel forms glistening centrepiece, with its unique LED lighting system ensuring a colourful backdrop to the racing as dusk gives way to darkness.\n",
      "\n",
      "Jump onboard\n",
      "\n",
      "\n",
      "\n",
      "\n",
      "\n",
      "\n",
      "\n",
      "\n",
      "\n",
      "\n",
      "\n",
      "\n",
      "\n",
      "\n",
      "\n",
      "\n",
      "\n",
      "\n",
      "\n",
      "\n",
      "\n",
      "\n",
      "\n",
      "\n",
      "\n",
      "Circuit info\n",
      "\n",
      "\n",
      "\n",
      "Yas Marina Circuit, Yas Island, PO Box 130001, Abu Dhabi, UAE\n",
      "\n",
      "+971 2 659 9800\n",
      "\n",
      "Email the circuit\n",
      "\n",
      "Official website \n",
      "\n",
      "\n",
      "\n",
      "\n",
      "\n",
      "\n",
      "\n",
      "Rate This Circuit\n",
      "\n",
      "2.8812345Votes: 5815\n",
      "\n",
      "\n",
      "\n",
      "\n",
      "\n",
      "\n",
      "\n",
      "\n",
      "\n",
      "\n",
      "\n",
      "\n",
      "\n",
      "\n",
      "\n",
      "Plan a visit\n",
      "\n",
      "\n",
      "\n",
      "\n",
      "\n",
      "Travel Centre\n",
      "\n",
      "\n",
      "Directions\n",
      "\n",
      "\n",
      "Weather\n",
      "\n",
      "\n",
      "Tickets\n",
      "\n",
      "\n",
      "\n",
      "\n",
      "Planning a visit to Yas Marina?  Find the best deals near to the circuit on hotels, apartments and rooms to rent from the map or click the buttons below for the best deals on flights and car hire.\n",
      "\n",
      "\n",
      "Find cheap flights\n",
      "\n",
      "\n",
      "Book affordable car hire\n",
      "\n",
      "\n",
      "\n",
      "Tip: You can also find the best local restaurants and deals on other nearby attractions by clicking the settings button in the map toolbar.\n",
      "\n",
      "To ensure visibility during the night races, the circuit was constructed with a permanent lighting system provided by Musco Lighting, similar to that also installed at the Losail Circuit in Qatar. Yas Marina Circuit is the largest permanent sports venue lighting project in the world; previously that title was held by Losail.\n",
      "Another world first is that all of the grandstands, including the massive hairpin seating area, are covered to protect spectators from the desert sun, while the state-of-the-art pit building boasts 40 air-conditioned garages, so teams have few complaints. Another unique feature is the pit lane exit, which passes underneath the circuit by means of a tunnel, thanks to the limited space on the outside of Turn One.\u001b[0m\u001b[32;1m\u001b[1;3m\n",
      "Invoking: `F1_AbuDhabi_search` with `{'query': 'first Yas Marina Grand Prix date'}`\n",
      "\n",
      "\n",
      "\u001b[0m\u001b[36;1m\u001b[1;3mLe Grand Prix\n",
      "L'atmosphère est très douce (27°C) en ce début de soirée sur Yas Marina, mais la température de la piste est nettement plus basse que la veille (32°C au lieu de 42°C). Les pneumatiques devraient donc moins souffrir. Tous les pilotes partent en gommes médiums (C4), sauf Hamilton qui s'élance avec le composé dur (C3). Cette finale du championnat 2024 est un beau succès avec des tribunes remplies, notamment par les fans de Max Verstappen qui tiennent à fêter le quatrième sacre de leur idole.\n",
      "\n",
      "Départ: Leclerc prend un bon envol tandis que Verstappen, très bien parti, double aussitôt Sainz, prend l'aspiration de Piastri, et se décale brusquement à l'intérieur au freinage pour surprendre ce dernier. Il est bien trop optimiste et touche la McLaren. Les deux bolides pirouettent, mais si Verstappen exécute un 360° et se relance au cœur du peloton, Piastri repart dernier après un tête-à-queue. Tsunoda peine à démarrer suite à un problème d'embrayage.\n",
      "\n",
      "Cette 24e et dernière manche de la saison 2024 décidera du championnat du monde des constructeurs. McLaren-Mercedes aborde cette ultime étape avec un avantage assez confortable de 21 points sur Ferrari. Pour décrocher la timbale, la Scuderia doit donc glaner beaucoup de points, sans doute gagner la course, et prier pour que la scoumoune s'abatte sur sa rivale. Ce qui n'a rien d'évident puisque la MCL38 n'a pas subi une seule panne en course cette saison. Néanmoins, le clan McLaren demeure très prudent, surtout que le tracé de Yas Marina semble mieux convenir à la Ferrari. Les Papayes comptent toutefois sur les Red Bull et les Mercedes pour prendre des points à leurs adversaires, comme le souligne Oscar Piastri: « Le week-end sera très disputé entre les quatre premières équipes, et pas seulement entre nous et Ferrari, ce qui signifie que les autres concurrents peuvent potentiellement jouer un rôle dans la décision du championnat. » Lando Norris estime pour sa part que la meilleure\n",
      "\n",
      "Essais et qualifications\n",
      "Vendredi après-midi, C. Leclerc réalise le meilleur chrono (1'24''321''') des premiers essais libres devant Norris et Hamilton. Pour l'anecdote, A. Leclerc obtient le 18e temps, à près de deux secondes de son frère et équipier d'un jour. Plus tard, dans la soirée, les McLaren prennent le pouvoir lors de la seconde session libre: Norris est le plus rapide (1'23''517'') devant son équipier Piastri. Samedi après-midi, les McLaren confirment leur ascendant, Piastri signant le meilleur temps des EL3 (1'23''433''') devant Norris.\n",
      "\n",
      "Lando Norris l'emporte et donne le titre des constructeurs à McLaren. Les Ferrari de Sainz (2e) et Leclerc (3e) l'encadrent sur le podium. Hamilton conclut son aventure chez Mercedes avec une quatrième place, devant Russell. Verstappen se classe sixième. Gasly (7e) permet à Alpine de devancer Haas au championnat. Hülkenberg finit huitième. Alonso est neuvième, Piastri dixième. Viennent ensuite Albon, Stroll, Tsunoda, Zhou, Doohan et Magnussen. Stroll recule de deux rangs à cause d'une pénalité de 5 secondes pour de multiples passages hors limites.\u001b[0m\u001b[32;1m\u001b[1;3mThe first Yas Marina Grand Prix took place on November 1, 2009.\u001b[0m\n",
      "\n",
      "\u001b[1m> Finished chain.\u001b[0m\n"
     ]
    },
    {
     "data": {
      "text/plain": [
       "{'input': 'When the first Yas Marina Grand Prix happened?',\n",
       " 'output': 'The first Yas Marina Grand Prix took place on November 1, 2009.'}"
      ]
     },
     "execution_count": 25,
     "metadata": {},
     "output_type": "execute_result"
    }
   ],
   "source": [
    "agent_executor.invoke({\"input\":\"When the first Yas Marina Grand Prix happened?\"})"
   ]
  },
  {
   "cell_type": "code",
   "execution_count": 26,
   "id": "8d02b7a3",
   "metadata": {},
   "outputs": [
    {
     "name": "stdout",
     "output_type": "stream",
     "text": [
      "\n",
      "\n",
      "\u001b[1m> Entering new AgentExecutor chain...\u001b[0m\n",
      "\u001b[32;1m\u001b[1;3m\n",
      "Invoking: `F1_AbuDhabi_circuit` with `{'query': 'number of turns in Abu Dhabi circuit'}`\n",
      "\n",
      "\n",
      "\u001b[0m\u001b[33;1m\u001b[1;3mCircuit Overview\n",
      "\n",
      "\n",
      "\n",
      "\n",
      "The Yas Marina Circuit (Arabic: حلبة مرسى ياس) is believed to be the most expensive circuit in history, having been constructed for Formula One on a man-made island at a reputed cost of $1 billion. Needless to say, it lacks nothing in terms of facilities, yet in its original form failed to capture the imagination of the drivers and fans, with overtaking in particular proving particularly difficult.\n",
      "A reconfiguration in 2021 sought to improve the situation by eliminating some of the more stop-start sections and providing a more flowing layout. While designers were limited by the available space, the revamp has included the insertion of a sweeping banked corner at its southern end.\n",
      "Aside from Formula One, the circuit has also hosted the short-lived FIA GT1 World Series, rounds of GP2 Asia and the full GP2 Series and overseas rounds of the V8 Supercar Championships, while 2012 saw the creation of a 12 Hour race for GT and sports cars.\n",
      "\n",
      "Jump onboard\n",
      "\n",
      "\n",
      "\n",
      "\n",
      "\n",
      "\n",
      "\n",
      "\n",
      "\n",
      "\n",
      "\n",
      "\n",
      "\n",
      "\n",
      "\n",
      "\n",
      "\n",
      "\n",
      "\n",
      "\n",
      "\n",
      "\n",
      "\n",
      "\n",
      "\n",
      "Circuit info\n",
      "\n",
      "\n",
      "\n",
      "Yas Marina Circuit, Yas Island, PO Box 130001, Abu Dhabi, UAE\n",
      "\n",
      "+971 2 659 9800\n",
      "\n",
      "Email the circuit\n",
      "\n",
      "Official website \n",
      "\n",
      "\n",
      "\n",
      "\n",
      "\n",
      "\n",
      "\n",
      "Rate This Circuit\n",
      "\n",
      "2.8812345Votes: 5815\n",
      "\n",
      "\n",
      "\n",
      "\n",
      "\n",
      "\n",
      "\n",
      "\n",
      "\n",
      "\n",
      "\n",
      "\n",
      "\n",
      "\n",
      "\n",
      "Plan a visit\n",
      "\n",
      "\n",
      "\n",
      "\n",
      "\n",
      "Travel Centre\n",
      "\n",
      "\n",
      "Directions\n",
      "\n",
      "\n",
      "Weather\n",
      "\n",
      "\n",
      "Tickets\n",
      "\n",
      "\n",
      "\n",
      "\n",
      "Planning a visit to Yas Marina?  Find the best deals near to the circuit on hotels, apartments and rooms to rent from the map or click the buttons below for the best deals on flights and car hire.\n",
      "\n",
      "\n",
      "Find cheap flights\n",
      "\n",
      "\n",
      "Book affordable car hire\n",
      "\n",
      "\n",
      "\n",
      "Tip: You can also find the best local restaurants and deals on other nearby attractions by clicking the settings button in the map toolbar.\n",
      "\n",
      "Racing at the Hermann Tilke-designed facility has been mixed – passing has proved difficult, despite the long straights. The majority of the corners are medium or slow speed, making this a very technical track at which obtaining a good car balance is difficult.\n",
      "In reaction to this, new plans were announced to amend the circuit for the 2021 Grand Prix, with works taking place from the middle of the year in order to ready the circuit for the season finale.  Major restructuring of the track took place in three areas – the North Hairpin, South Marina and around the Hotel section - with the aim of opening up the track and creating new overtaking opportunities.\n",
      "\n",
      "The project was born as Formula One began searching for new venues in states with chequebooks that could match Bernie Ecclestone's increasingly hefty financial demands. After the success of the Bahrain Cicuit, the authorities in Abu Dhabi were keen to raise their profile and identified land on the newly-constructed Yas Island for the circuit.\n",
      "After two years of intensive planning and construction involving 14,000 staff and 35 million construction man-hours, the new facility opened its doors to the world. Featuring a marina area it had something to rival Monte Carlo and, at its centre, was the futuristic Yas Viceroy Abu Dhabi Hotel which the circuit actually passes underneath. With the Formula One Grand Prix being a dusk race, the hotel forms glistening centrepiece, with its unique LED lighting system ensuring a colourful backdrop to the racing as dusk gives way to darkness.\u001b[0m\u001b[32;1m\u001b[1;3mThe Yas Marina Circuit, which hosts the Abu Dhabi Grand Prix, is comprised of 16 turns.\u001b[0m\n",
      "\n",
      "\u001b[1m> Finished chain.\u001b[0m\n"
     ]
    },
    {
     "data": {
      "text/plain": [
       "{'input': 'How many turns the Abu Dhabi circuit is comprised of?',\n",
       " 'output': 'The Yas Marina Circuit, which hosts the Abu Dhabi Grand Prix, is comprised of 16 turns.'}"
      ]
     },
     "execution_count": 26,
     "metadata": {},
     "output_type": "execute_result"
    }
   ],
   "source": [
    "agent_executor.invoke({\"input\":\"How many turns the Abu Dhabi circuit is comprised of?\"})"
   ]
  },
  {
   "cell_type": "code",
   "execution_count": 27,
   "id": "611cf5e2",
   "metadata": {},
   "outputs": [
    {
     "name": "stdout",
     "output_type": "stream",
     "text": [
      "\n",
      "\n",
      "\u001b[1m> Entering new AgentExecutor chain...\u001b[0m\n",
      "\u001b[32;1m\u001b[1;3m\n",
      "Invoking: `F1_AbuDhabi_circuit` with `{'query': 'Yas Marina Circuit changes history'}`\n",
      "\n",
      "\n",
      "\u001b[0m\u001b[33;1m\u001b[1;3mCircuit Overview\n",
      "\n",
      "\n",
      "\n",
      "\n",
      "The Yas Marina Circuit (Arabic: حلبة مرسى ياس) is believed to be the most expensive circuit in history, having been constructed for Formula One on a man-made island at a reputed cost of $1 billion. Needless to say, it lacks nothing in terms of facilities, yet in its original form failed to capture the imagination of the drivers and fans, with overtaking in particular proving particularly difficult.\n",
      "A reconfiguration in 2021 sought to improve the situation by eliminating some of the more stop-start sections and providing a more flowing layout. While designers were limited by the available space, the revamp has included the insertion of a sweeping banked corner at its southern end.\n",
      "Aside from Formula One, the circuit has also hosted the short-lived FIA GT1 World Series, rounds of GP2 Asia and the full GP2 Series and overseas rounds of the V8 Supercar Championships, while 2012 saw the creation of a 12 Hour race for GT and sports cars.\n",
      "\n",
      "The project was born as Formula One began searching for new venues in states with chequebooks that could match Bernie Ecclestone's increasingly hefty financial demands. After the success of the Bahrain Cicuit, the authorities in Abu Dhabi were keen to raise their profile and identified land on the newly-constructed Yas Island for the circuit.\n",
      "After two years of intensive planning and construction involving 14,000 staff and 35 million construction man-hours, the new facility opened its doors to the world. Featuring a marina area it had something to rival Monte Carlo and, at its centre, was the futuristic Yas Viceroy Abu Dhabi Hotel which the circuit actually passes underneath. With the Formula One Grand Prix being a dusk race, the hotel forms glistening centrepiece, with its unique LED lighting system ensuring a colourful backdrop to the racing as dusk gives way to darkness.\n",
      "\n",
      "To ensure visibility during the night races, the circuit was constructed with a permanent lighting system provided by Musco Lighting, similar to that also installed at the Losail Circuit in Qatar. Yas Marina Circuit is the largest permanent sports venue lighting project in the world; previously that title was held by Losail.\n",
      "Another world first is that all of the grandstands, including the massive hairpin seating area, are covered to protect spectators from the desert sun, while the state-of-the-art pit building boasts 40 air-conditioned garages, so teams have few complaints. Another unique feature is the pit lane exit, which passes underneath the circuit by means of a tunnel, thanks to the limited space on the outside of Turn One.\n",
      "\n",
      "Jump onboard\n",
      "\n",
      "\n",
      "\n",
      "\n",
      "\n",
      "\n",
      "\n",
      "\n",
      "\n",
      "\n",
      "\n",
      "\n",
      "\n",
      "\n",
      "\n",
      "\n",
      "\n",
      "\n",
      "\n",
      "\n",
      "\n",
      "\n",
      "\n",
      "\n",
      "\n",
      "Circuit info\n",
      "\n",
      "\n",
      "\n",
      "Yas Marina Circuit, Yas Island, PO Box 130001, Abu Dhabi, UAE\n",
      "\n",
      "+971 2 659 9800\n",
      "\n",
      "Email the circuit\n",
      "\n",
      "Official website \n",
      "\n",
      "\n",
      "\n",
      "\n",
      "\n",
      "\n",
      "\n",
      "Rate This Circuit\n",
      "\n",
      "2.8812345Votes: 5815\n",
      "\n",
      "\n",
      "\n",
      "\n",
      "\n",
      "\n",
      "\n",
      "\n",
      "\n",
      "\n",
      "\n",
      "\n",
      "\n",
      "\n",
      "\n",
      "Plan a visit\n",
      "\n",
      "\n",
      "\n",
      "\n",
      "\n",
      "Travel Centre\n",
      "\n",
      "\n",
      "Directions\n",
      "\n",
      "\n",
      "Weather\n",
      "\n",
      "\n",
      "Tickets\n",
      "\n",
      "\n",
      "\n",
      "\n",
      "Planning a visit to Yas Marina?  Find the best deals near to the circuit on hotels, apartments and rooms to rent from the map or click the buttons below for the best deals on flights and car hire.\n",
      "\n",
      "\n",
      "Find cheap flights\n",
      "\n",
      "\n",
      "Book affordable car hire\n",
      "\n",
      "\n",
      "\n",
      "Tip: You can also find the best local restaurants and deals on other nearby attractions by clicking the settings button in the map toolbar.\u001b[0m\u001b[32;1m\u001b[1;3mThe Yas Marina Circuit underwent its first significant changes in 2021. The reconfiguration aimed to improve the circuit's layout by eliminating some of the stop-start sections and creating a more flowing design.\u001b[0m\n",
      "\n",
      "\u001b[1m> Finished chain.\u001b[0m\n"
     ]
    },
    {
     "data": {
      "text/plain": [
       "{'input': 'In which year Yas Marina circuit went into changes for the first time?',\n",
       " 'output': \"The Yas Marina Circuit underwent its first significant changes in 2021. The reconfiguration aimed to improve the circuit's layout by eliminating some of the stop-start sections and creating a more flowing design.\"}"
      ]
     },
     "execution_count": 27,
     "metadata": {},
     "output_type": "execute_result"
    }
   ],
   "source": [
    "agent_executor.invoke({\"input\":\"In which year Yas Marina circuit went into changes for the first time?\"})"
   ]
  },
  {
   "cell_type": "code",
   "execution_count": null,
   "id": "9f897970",
   "metadata": {},
   "outputs": [],
   "source": []
  }
 ],
 "metadata": {
  "kernelspec": {
   "display_name": "Python 3 (ipykernel)",
   "language": "python",
   "name": "python3"
  },
  "language_info": {
   "codemirror_mode": {
    "name": "ipython",
    "version": 3
   },
   "file_extension": ".py",
   "mimetype": "text/x-python",
   "name": "python",
   "nbconvert_exporter": "python",
   "pygments_lexer": "ipython3",
   "version": "3.11.4"
  }
 },
 "nbformat": 4,
 "nbformat_minor": 5
}
